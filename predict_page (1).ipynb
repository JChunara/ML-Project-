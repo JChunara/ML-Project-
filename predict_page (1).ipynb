{
  "metadata": {
    "language_info": {
      "codemirror_mode": {
        "name": "python",
        "version": 3
      },
      "file_extension": ".py",
      "mimetype": "text/x-python",
      "name": "python",
      "nbconvert_exporter": "python",
      "pygments_lexer": "ipython3",
      "version": "3.8"
    },
    "kernelspec": {
      "name": "python",
      "display_name": "Python (Pyodide)",
      "language": "python"
    }
  },
  "nbformat_minor": 4,
  "nbformat": 4,
  "cells": [
    {
      "cell_type": "code",
      "source": "import streamlit as st\nimport pickle\nimport numpy as np\n\n\ndef load_model():\n    with open('saved_steps.pkl', 'rb') as file:\n        data = pickle.load(file)\n    return data\n\ndata = load_model()\n\nregressor = data[\"model\"]\nle_location = data[\"le_location\"]\nle_title = data[\"le_title\"]\n\ndef show_predict_page():\n    st.title(\"Salary Prediction\")\n\n    st.write(\"\"\"### We need some information to predict the salary\"\"\")\n\n   location = (\n        \"United States\",\n        \"India\",\n        \"United Kingdom\",\n        \"Germany\",\n        \"Canada\",\n        \"Brazil\",\n        \"France\",\n        \"Spain\",\n        \"Australia\",\n        \"Netherlands\",\n        \"Poland\",\n        \"Italy\",\n        \"Russian Federation\",\n        \"Sweden\",\n    )\n\n    title = (\n         \"Data Scientist\",\n        \"Business Analyst\",\n        \"Software Engineer\",\n        \"Software Engineering Manager\",\n        \"Hardware Engineer\",\n        \"Human Resources\",\n        \"Management Consultant\",\n        \"Marketing\",\n        \"Product Designer\",\n        \"Product Manager\",\n        \"Recruiter\",\n        \"Sales\",\n        \n    )\n\n    location = st.selectbox(\"Location\", location)\n    title = st.selectbox(\"Title\", education)\n\n    experience = st.slider(\"Years of Experience\")\n\n    ok = st.button(\"Calculate Salary\")\n    if ok:\n        X = np.array([[location, title, expericence ]])\n        X[:, 0] = le_location.transform(X[:,0])\n        X[:, 1] = le_title.transform(X[:,1])\n        X = X.astype(float)\n\n        salary = regressor.predict(X)\n        st.subheader(f\"The estimated salary is ${salary[0]:.2f}\")",
      "metadata": {
        "trusted": true
      },
      "execution_count": null,
      "outputs": []
    },
    {
      "cell_type": "code",
      "source": "",
      "metadata": {},
      "execution_count": null,
      "outputs": []
    }
  ]
}