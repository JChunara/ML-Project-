{
  "metadata": {
    "language_info": {
      "codemirror_mode": {
        "name": "python",
        "version": 3
      },
      "file_extension": ".py",
      "mimetype": "text/x-python",
      "name": "python",
      "nbconvert_exporter": "python",
      "pygments_lexer": "ipython3",
      "version": "3.8"
    },
    "kernelspec": {
      "name": "python",
      "display_name": "Python (Pyodide)",
      "language": "python"
    }
  },
  "nbformat_minor": 4,
  "nbformat": 4,
  "cells": [
    {
      "cell_type": "code",
      "source": "import streamlit as st\nimport pickle\nimport numpy as np\n\n\ndef load_model():\n    with open('saved_steps.pkl', 'rb') as file:\n        data = pickle.load(file)\n    return data\n\ndata = load_model()\n\nregressor = data[\"model\"]\nimport streamlit as st\nimport pandas as pd\nimport matplotlib.pyplot as plt\n\ndef shorten_categories(categories, cutoff):\n    categorical_map = {}\n    for i in range(len(categories)):\n        if categories.values[i] >= cutoff:\n            categorical_map[categories.index[i]] = categories.index[i]\n        else:\n            categorical_map[categories.index[i]] = 'Other'\n    return categorical_map\n\n\ndef clean_experience(x):\n    if x ==  'More than 50 years':\n        return 50\n    if x == 'Less than 1 year':\n        return 0.5\n    return float(x)\n\n\ndef clean_title(x):\n    if 'Bachelor’s degree' in x:\n        return 'Bachelor’s degree'\n    if 'Master’s degree' in x:\n        return 'Master’s degree'\n    if 'Professional degree' in x or 'Other doctoral' in x:\n        return 'Post grad'\n    return 'Less than a Bachelors'\n\n\n@st.cache\ndef load_data():\n    df = pd.read_csv(\"Levels_Fyi_Salary_Data\")\n    df = df[[\"Location\", \"Title\", \"YearsofExperience\", \"BaseSalary\"]]\n    df = df[df[\"ConvertedComp\"].notnull()]\n    df = df.dropna()\n    df = df[df[\"Employment\"] == \"Employed full-time\"]\n    df = df.drop(\"Employment\", axis=1)\n\n   le_location = shorten_categories(df.Location.value_counts(), 400)\n    df[\"Location\"] = df[\"Country\"].map(le_location)\n    df = df[df[\"BaseSalary\"] <= 250000]\n    df = df[df[\"BaseSalary\"] >= 10000]\n    df = df[df[\"Location\"] != \"Other\"]\n\n    df[\"YearsofExperience\"] = df[\"YearsofExperience\"].apply(clean_experience)\n    df[\"Title\"] = df[\"Title\"].apply(clean_title)\n    df = df.rename({\"BaseSalary\": \"Salary\"}, axis=1)\n    return df\n\ndf = load_data()\n\ndef show_explore_page():\n    st.title(\"Explore Salaries\")\n\n    st.write(\n        \"\"\"\n    ### Stack Overflow Developer Survey 2020\n    \"\"\"\n    )\n\n    data = df[\"Location\"].value_counts()\n\n    fig1, ax1 = plt.subplots()\n    ax1.pie(data, labels=data.index, autopct=\"%1.1f%%\", shadow=True, startangle=90)\n    ax1.axis(\"equal\")  # Equal aspect ratio ensures that pie is drawn as a circle.\n\n    st.write(\"\"\"#### Number of Data from different countries\"\"\")\n\n    st.pyplot(fig1)\n    \n    st.write(\n        \"\"\"\n    #### Mean Salary Based On Location\n    \"\"\"\n    )\n\n    data = df.groupby([\"Location\"])[\"BaseSalary\"].mean().sort_values(ascending=True)\n    st.bar_chart(data)\n\n    st.write(\n        \"\"\"\n    #### Mean Salary Based On Experience\n    \"\"\"\n    )\n\n    data = df.groupby([\"YearsofExperience\"])[\"BaseSalary\"].mean().sort_values(ascending=True)\n    st.line_chart(data)",
      "metadata": {},
      "execution_count": null,
      "outputs": []
    }
  ]
}