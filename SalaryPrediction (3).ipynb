{
 "cells": [
  {
   "cell_type": "code",
   "execution_count": 1,
   "metadata": {
    "colab": {
     "base_uri": "https://localhost:8080/"
    },
    "id": "NyJAizZzNUZ2",
    "outputId": "22d7307f-c67c-44cc-a955-f7275bf81fd1"
   },
   "outputs": [
    {
     "name": "stdout",
     "output_type": "stream",
     "text": [
      "Requirement already satisfied: seaborn in c:\\users\\varun\\anaconda3\\lib\\site-packages (0.11.1)\n",
      "Requirement already satisfied: numpy>=1.15 in c:\\users\\varun\\anaconda3\\lib\\site-packages (from seaborn) (1.21.5)\n",
      "Requirement already satisfied: scipy>=1.0 in c:\\users\\varun\\anaconda3\\lib\\site-packages (from seaborn) (1.7.3)\n",
      "Requirement already satisfied: pandas>=0.23 in c:\\users\\varun\\anaconda3\\lib\\site-packages (from seaborn) (1.4.2)\n",
      "Requirement already satisfied: matplotlib>=2.2 in c:\\users\\varun\\anaconda3\\lib\\site-packages (from seaborn) (3.5.1)\n",
      "Requirement already satisfied: cycler>=0.10 in c:\\users\\varun\\anaconda3\\lib\\site-packages (from matplotlib>=2.2->seaborn) (0.11.0)\n",
      "Requirement already satisfied: packaging>=20.0 in c:\\users\\varun\\anaconda3\\lib\\site-packages (from matplotlib>=2.2->seaborn) (21.3)\n",
      "Requirement already satisfied: python-dateutil>=2.7 in c:\\users\\varun\\anaconda3\\lib\\site-packages (from matplotlib>=2.2->seaborn) (2.8.2)\n",
      "Requirement already satisfied: fonttools>=4.22.0 in c:\\users\\varun\\anaconda3\\lib\\site-packages (from matplotlib>=2.2->seaborn) (4.25.0)\n",
      "Requirement already satisfied: kiwisolver>=1.0.1 in c:\\users\\varun\\anaconda3\\lib\\site-packages (from matplotlib>=2.2->seaborn) (1.3.2)\n",
      "Requirement already satisfied: pyparsing>=2.2.1 in c:\\users\\varun\\anaconda3\\lib\\site-packages (from matplotlib>=2.2->seaborn) (3.0.4)\n",
      "Requirement already satisfied: pillow>=6.2.0 in c:\\users\\varun\\anaconda3\\lib\\site-packages (from matplotlib>=2.2->seaborn) (9.0.1)\n",
      "Requirement already satisfied: pytz>=2020.1 in c:\\users\\varun\\anaconda3\\lib\\site-packages (from pandas>=0.23->seaborn) (2021.3)\n",
      "Requirement already satisfied: six>=1.5 in c:\\users\\varun\\anaconda3\\lib\\site-packages (from python-dateutil>=2.7->matplotlib>=2.2->seaborn) (1.16.0)\n",
      "Note: you may need to restart the kernel to use updated packages.\n",
      "Requirement already satisfied: plotly in c:\\users\\varun\\anaconda3\\lib\\site-packages (5.6.0)\n",
      "Requirement already satisfied: tenacity>=6.2.0 in c:\\users\\varun\\anaconda3\\lib\\site-packages (from plotly) (8.0.1)\n",
      "Requirement already satisfied: six in c:\\users\\varun\\anaconda3\\lib\\site-packages (from plotly) (1.16.0)\n",
      "Note: you may need to restart the kernel to use updated packages.\n",
      "Requirement already satisfied: scipy in c:\\users\\varun\\anaconda3\\lib\\site-packages (1.7.3)\n",
      "Requirement already satisfied: numpy<1.23.0,>=1.16.5 in c:\\users\\varun\\anaconda3\\lib\\site-packages (from scipy) (1.21.5)\n",
      "Note: you may need to restart the kernel to use updated packages.\n"
     ]
    }
   ],
   "source": [
    "import pandas as pd\n",
    "import numpy as np\n",
    "import matplotlib.pyplot as plt\n",
    "import csv\n",
    "import re\n",
    "%matplotlib inline\n",
    "%pip install seaborn\n",
    "%pip install plotly\n",
    "%pip install scipy\n",
    "import seaborn as sns\n",
    "import plotly.express as px\n",
    "import plotly.graph_objects as go\n",
    "from plotly.subplots import make_subplots\n",
    "from scipy.stats import ttest_ind"
   ]
  },
  {
   "cell_type": "code",
   "execution_count": null,
   "metadata": {
    "colab": {
     "base_uri": "https://localhost:8080/",
     "height": 49
    },
    "id": "I2oOpBzLdnr7",
    "outputId": "05a05d54-03d0-416a-80cd-96fa0e9c1e70"
   },
   "outputs": [],
   "source": []
  },
  {
   "cell_type": "code",
   "execution_count": 2,
   "metadata": {
    "colab": {
     "base_uri": "https://localhost:8080/",
     "height": 346
    },
    "id": "OR-J8iY-dLKN",
    "outputId": "a1613455-33d9-4063-965c-686a57ceb9a6"
   },
   "outputs": [
    {
     "name": "stdout",
     "output_type": "stream",
     "text": [
      "                timestamp     company     level                         title  \\\n",
      "0       6/7/2017 11:33:27      Oracle        L3               Product Manager   \n",
      "1      6/10/2017 17:11:29        eBay      SE 2             Software Engineer   \n",
      "2      6/11/2017 14:53:57      Amazon        L7               Product Manager   \n",
      "3       6/17/2017 0:23:14       Apple        M1  Software Engineering Manager   \n",
      "4      6/20/2017 10:58:51   Microsoft        60             Software Engineer   \n",
      "...                   ...         ...       ...                           ...   \n",
      "62637   9/9/2018 11:52:32      Google        T4             Software Engineer   \n",
      "62638   9/13/2018 8:23:32   Microsoft        62             Software Engineer   \n",
      "62639  9/13/2018 14:35:59        MSFT        63             Software Engineer   \n",
      "62640  9/16/2018 16:10:35  Salesforce  Lead MTS             Software Engineer   \n",
      "62641   1/29/2019 5:12:59       apple      ict3             Software Engineer   \n",
      "\n",
      "       totalyearlycompensation           location  yearsofexperience  \\\n",
      "0                       127000   Redwood City, CA                1.5   \n",
      "1                       100000  San Francisco, CA                5.0   \n",
      "2                       310000        Seattle, WA                8.0   \n",
      "3                       372000      Sunnyvale, CA                7.0   \n",
      "4                       157000  Mountain View, CA                5.0   \n",
      "...                        ...                ...                ...   \n",
      "62637                   327000        Seattle, WA               10.0   \n",
      "62638                   237000        Redmond, WA                2.0   \n",
      "62639                   220000        Seattle, WA               14.0   \n",
      "62640                   280000  San Francisco, CA                8.0   \n",
      "62641                   200000      Sunnyvale, CA                0.0   \n",
      "\n",
      "       yearsatcompany                             tag  basesalary  ...  \\\n",
      "0                 1.5                             NaN    107000.0  ...   \n",
      "1                 3.0                             NaN         0.0  ...   \n",
      "2                 0.0                             NaN    155000.0  ...   \n",
      "3                 5.0                             NaN    157000.0  ...   \n",
      "4                 3.0                             NaN         0.0  ...   \n",
      "...               ...                             ...         ...  ...   \n",
      "62637             1.0  Distributed Systems (Back-End)    155000.0  ...   \n",
      "62638             2.0                      Full Stack    146900.0  ...   \n",
      "62639            12.0                      Full Stack    157000.0  ...   \n",
      "62640             4.0                             iOS    194688.0  ...   \n",
      "62641             0.0                         ML / AI    155000.0  ...   \n",
      "\n",
      "       Doctorate_Degree  Highschool Some_College Race_Asian  Race_White  \\\n",
      "0                     0           0            0          0           0   \n",
      "1                     0           0            0          0           0   \n",
      "2                     0           0            0          0           0   \n",
      "3                     0           0            0          0           0   \n",
      "4                     0           0            0          0           0   \n",
      "...                 ...         ...          ...        ...         ...   \n",
      "62637                 0           0            0          0           0   \n",
      "62638                 0           0            0          0           0   \n",
      "62639                 0           0            0          0           0   \n",
      "62640                 0           0            0          0           0   \n",
      "62641                 0           0            0          0           0   \n",
      "\n",
      "       Race_Two_Or_More  Race_Black  Race_Hispanic  Race  Education  \n",
      "0                     0           0              0   NaN        NaN  \n",
      "1                     0           0              0   NaN        NaN  \n",
      "2                     0           0              0   NaN        NaN  \n",
      "3                     0           0              0   NaN        NaN  \n",
      "4                     0           0              0   NaN        NaN  \n",
      "...                 ...         ...            ...   ...        ...  \n",
      "62637                 0           0              0   NaN        NaN  \n",
      "62638                 0           0              0   NaN        NaN  \n",
      "62639                 0           0              0   NaN        NaN  \n",
      "62640                 0           0              0   NaN        NaN  \n",
      "62641                 0           0              0   NaN        NaN  \n",
      "\n",
      "[62642 rows x 29 columns]\n"
     ]
    }
   ],
   "source": [
    "s=pd.read_csv('../Downloads/Levels_Fyi_Salary_Data.csv')\n",
    "print(s)"
   ]
  },
  {
   "cell_type": "code",
   "execution_count": 3,
   "metadata": {
    "id": "r2HxCWE-NUZ7"
   },
   "outputs": [],
   "source": [
    "sdf = pd.read_csv(\"Levels_Fyi_Salary_Data.csv\")\n"
   ]
  },
  {
   "cell_type": "markdown",
   "metadata": {
    "id": "rpin-MEpZcod"
   },
   "source": [
    "# New Section"
   ]
  },
  {
   "cell_type": "code",
   "execution_count": 4,
   "metadata": {
    "colab": {
     "base_uri": "https://localhost:8080/",
     "height": 364
    },
    "id": "YuXhe5NGNUZ8",
    "outputId": "70f007e8-1265-4c52-9568-9f61e6778cf2"
   },
   "outputs": [
    {
     "data": {
      "text/html": [
       "<div>\n",
       "<style scoped>\n",
       "    .dataframe tbody tr th:only-of-type {\n",
       "        vertical-align: middle;\n",
       "    }\n",
       "\n",
       "    .dataframe tbody tr th {\n",
       "        vertical-align: top;\n",
       "    }\n",
       "\n",
       "    .dataframe thead th {\n",
       "        text-align: right;\n",
       "    }\n",
       "</style>\n",
       "<table border=\"1\" class=\"dataframe\">\n",
       "  <thead>\n",
       "    <tr style=\"text-align: right;\">\n",
       "      <th></th>\n",
       "      <th>totalyearlycompensation</th>\n",
       "      <th>yearsofexperience</th>\n",
       "      <th>yearsatcompany</th>\n",
       "      <th>basesalary</th>\n",
       "      <th>stockgrantvalue</th>\n",
       "      <th>bonus</th>\n",
       "      <th>cityid</th>\n",
       "      <th>dmaid</th>\n",
       "      <th>rowNumber</th>\n",
       "      <th>Masters_Degree</th>\n",
       "      <th>Bachelors_Degree</th>\n",
       "      <th>Doctorate_Degree</th>\n",
       "      <th>Highschool</th>\n",
       "      <th>Some_College</th>\n",
       "      <th>Race_Asian</th>\n",
       "      <th>Race_White</th>\n",
       "      <th>Race_Two_Or_More</th>\n",
       "      <th>Race_Black</th>\n",
       "      <th>Race_Hispanic</th>\n",
       "    </tr>\n",
       "  </thead>\n",
       "  <tbody>\n",
       "    <tr>\n",
       "      <th>count</th>\n",
       "      <td>6.264200e+04</td>\n",
       "      <td>62642.000000</td>\n",
       "      <td>62642.000000</td>\n",
       "      <td>6.264200e+04</td>\n",
       "      <td>6.264200e+04</td>\n",
       "      <td>62642.000000</td>\n",
       "      <td>62642.000000</td>\n",
       "      <td>62640.000000</td>\n",
       "      <td>62642.000000</td>\n",
       "      <td>62642.000000</td>\n",
       "      <td>62642.000000</td>\n",
       "      <td>62642.000000</td>\n",
       "      <td>62642.000000</td>\n",
       "      <td>62642.000000</td>\n",
       "      <td>62642.000000</td>\n",
       "      <td>62642.000000</td>\n",
       "      <td>62642.000000</td>\n",
       "      <td>62642.000000</td>\n",
       "      <td>62642.000000</td>\n",
       "    </tr>\n",
       "    <tr>\n",
       "      <th>mean</th>\n",
       "      <td>2.163004e+05</td>\n",
       "      <td>7.204135</td>\n",
       "      <td>2.702093</td>\n",
       "      <td>1.366873e+05</td>\n",
       "      <td>5.148608e+04</td>\n",
       "      <td>19334.746588</td>\n",
       "      <td>9856.201989</td>\n",
       "      <td>616.097222</td>\n",
       "      <td>41694.723732</td>\n",
       "      <td>0.245698</td>\n",
       "      <td>0.201223</td>\n",
       "      <td>0.028783</td>\n",
       "      <td>0.005108</td>\n",
       "      <td>0.005667</td>\n",
       "      <td>0.187925</td>\n",
       "      <td>0.128221</td>\n",
       "      <td>0.012835</td>\n",
       "      <td>0.011015</td>\n",
       "      <td>0.018039</td>\n",
       "    </tr>\n",
       "    <tr>\n",
       "      <th>std</th>\n",
       "      <td>1.380337e+05</td>\n",
       "      <td>5.840375</td>\n",
       "      <td>3.263656</td>\n",
       "      <td>6.136928e+04</td>\n",
       "      <td>8.187457e+04</td>\n",
       "      <td>26781.292040</td>\n",
       "      <td>6679.104563</td>\n",
       "      <td>289.843390</td>\n",
       "      <td>24488.865879</td>\n",
       "      <td>0.430504</td>\n",
       "      <td>0.400917</td>\n",
       "      <td>0.167196</td>\n",
       "      <td>0.071291</td>\n",
       "      <td>0.075067</td>\n",
       "      <td>0.390655</td>\n",
       "      <td>0.334338</td>\n",
       "      <td>0.112562</td>\n",
       "      <td>0.104373</td>\n",
       "      <td>0.133094</td>\n",
       "    </tr>\n",
       "    <tr>\n",
       "      <th>min</th>\n",
       "      <td>1.000000e+04</td>\n",
       "      <td>0.000000</td>\n",
       "      <td>0.000000</td>\n",
       "      <td>0.000000e+00</td>\n",
       "      <td>0.000000e+00</td>\n",
       "      <td>0.000000</td>\n",
       "      <td>0.000000</td>\n",
       "      <td>0.000000</td>\n",
       "      <td>1.000000</td>\n",
       "      <td>0.000000</td>\n",
       "      <td>0.000000</td>\n",
       "      <td>0.000000</td>\n",
       "      <td>0.000000</td>\n",
       "      <td>0.000000</td>\n",
       "      <td>0.000000</td>\n",
       "      <td>0.000000</td>\n",
       "      <td>0.000000</td>\n",
       "      <td>0.000000</td>\n",
       "      <td>0.000000</td>\n",
       "    </tr>\n",
       "    <tr>\n",
       "      <th>25%</th>\n",
       "      <td>1.350000e+05</td>\n",
       "      <td>3.000000</td>\n",
       "      <td>0.000000</td>\n",
       "      <td>1.080000e+05</td>\n",
       "      <td>0.000000e+00</td>\n",
       "      <td>1000.000000</td>\n",
       "      <td>7369.000000</td>\n",
       "      <td>506.000000</td>\n",
       "      <td>20069.250000</td>\n",
       "      <td>0.000000</td>\n",
       "      <td>0.000000</td>\n",
       "      <td>0.000000</td>\n",
       "      <td>0.000000</td>\n",
       "      <td>0.000000</td>\n",
       "      <td>0.000000</td>\n",
       "      <td>0.000000</td>\n",
       "      <td>0.000000</td>\n",
       "      <td>0.000000</td>\n",
       "      <td>0.000000</td>\n",
       "    </tr>\n",
       "    <tr>\n",
       "      <th>50%</th>\n",
       "      <td>1.880000e+05</td>\n",
       "      <td>6.000000</td>\n",
       "      <td>2.000000</td>\n",
       "      <td>1.400000e+05</td>\n",
       "      <td>2.500000e+04</td>\n",
       "      <td>14000.000000</td>\n",
       "      <td>7839.000000</td>\n",
       "      <td>807.000000</td>\n",
       "      <td>42019.000000</td>\n",
       "      <td>0.000000</td>\n",
       "      <td>0.000000</td>\n",
       "      <td>0.000000</td>\n",
       "      <td>0.000000</td>\n",
       "      <td>0.000000</td>\n",
       "      <td>0.000000</td>\n",
       "      <td>0.000000</td>\n",
       "      <td>0.000000</td>\n",
       "      <td>0.000000</td>\n",
       "      <td>0.000000</td>\n",
       "    </tr>\n",
       "    <tr>\n",
       "      <th>75%</th>\n",
       "      <td>2.640000e+05</td>\n",
       "      <td>10.000000</td>\n",
       "      <td>4.000000</td>\n",
       "      <td>1.700000e+05</td>\n",
       "      <td>6.500000e+04</td>\n",
       "      <td>26000.000000</td>\n",
       "      <td>11521.000000</td>\n",
       "      <td>807.000000</td>\n",
       "      <td>63021.750000</td>\n",
       "      <td>0.000000</td>\n",
       "      <td>0.000000</td>\n",
       "      <td>0.000000</td>\n",
       "      <td>0.000000</td>\n",
       "      <td>0.000000</td>\n",
       "      <td>0.000000</td>\n",
       "      <td>0.000000</td>\n",
       "      <td>0.000000</td>\n",
       "      <td>0.000000</td>\n",
       "      <td>0.000000</td>\n",
       "    </tr>\n",
       "    <tr>\n",
       "      <th>max</th>\n",
       "      <td>4.980000e+06</td>\n",
       "      <td>69.000000</td>\n",
       "      <td>69.000000</td>\n",
       "      <td>1.659870e+06</td>\n",
       "      <td>2.800000e+06</td>\n",
       "      <td>1000000.000000</td>\n",
       "      <td>47926.000000</td>\n",
       "      <td>881.000000</td>\n",
       "      <td>83875.000000</td>\n",
       "      <td>1.000000</td>\n",
       "      <td>1.000000</td>\n",
       "      <td>1.000000</td>\n",
       "      <td>1.000000</td>\n",
       "      <td>1.000000</td>\n",
       "      <td>1.000000</td>\n",
       "      <td>1.000000</td>\n",
       "      <td>1.000000</td>\n",
       "      <td>1.000000</td>\n",
       "      <td>1.000000</td>\n",
       "    </tr>\n",
       "  </tbody>\n",
       "</table>\n",
       "</div>"
      ],
      "text/plain": [
       "       totalyearlycompensation  yearsofexperience  yearsatcompany  \\\n",
       "count             6.264200e+04       62642.000000    62642.000000   \n",
       "mean              2.163004e+05           7.204135        2.702093   \n",
       "std               1.380337e+05           5.840375        3.263656   \n",
       "min               1.000000e+04           0.000000        0.000000   \n",
       "25%               1.350000e+05           3.000000        0.000000   \n",
       "50%               1.880000e+05           6.000000        2.000000   \n",
       "75%               2.640000e+05          10.000000        4.000000   \n",
       "max               4.980000e+06          69.000000       69.000000   \n",
       "\n",
       "         basesalary  stockgrantvalue           bonus        cityid  \\\n",
       "count  6.264200e+04     6.264200e+04    62642.000000  62642.000000   \n",
       "mean   1.366873e+05     5.148608e+04    19334.746588   9856.201989   \n",
       "std    6.136928e+04     8.187457e+04    26781.292040   6679.104563   \n",
       "min    0.000000e+00     0.000000e+00        0.000000      0.000000   \n",
       "25%    1.080000e+05     0.000000e+00     1000.000000   7369.000000   \n",
       "50%    1.400000e+05     2.500000e+04    14000.000000   7839.000000   \n",
       "75%    1.700000e+05     6.500000e+04    26000.000000  11521.000000   \n",
       "max    1.659870e+06     2.800000e+06  1000000.000000  47926.000000   \n",
       "\n",
       "              dmaid     rowNumber  Masters_Degree  Bachelors_Degree  \\\n",
       "count  62640.000000  62642.000000    62642.000000      62642.000000   \n",
       "mean     616.097222  41694.723732        0.245698          0.201223   \n",
       "std      289.843390  24488.865879        0.430504          0.400917   \n",
       "min        0.000000      1.000000        0.000000          0.000000   \n",
       "25%      506.000000  20069.250000        0.000000          0.000000   \n",
       "50%      807.000000  42019.000000        0.000000          0.000000   \n",
       "75%      807.000000  63021.750000        0.000000          0.000000   \n",
       "max      881.000000  83875.000000        1.000000          1.000000   \n",
       "\n",
       "       Doctorate_Degree    Highschool  Some_College    Race_Asian  \\\n",
       "count      62642.000000  62642.000000  62642.000000  62642.000000   \n",
       "mean           0.028783      0.005108      0.005667      0.187925   \n",
       "std            0.167196      0.071291      0.075067      0.390655   \n",
       "min            0.000000      0.000000      0.000000      0.000000   \n",
       "25%            0.000000      0.000000      0.000000      0.000000   \n",
       "50%            0.000000      0.000000      0.000000      0.000000   \n",
       "75%            0.000000      0.000000      0.000000      0.000000   \n",
       "max            1.000000      1.000000      1.000000      1.000000   \n",
       "\n",
       "         Race_White  Race_Two_Or_More    Race_Black  Race_Hispanic  \n",
       "count  62642.000000      62642.000000  62642.000000   62642.000000  \n",
       "mean       0.128221          0.012835      0.011015       0.018039  \n",
       "std        0.334338          0.112562      0.104373       0.133094  \n",
       "min        0.000000          0.000000      0.000000       0.000000  \n",
       "25%        0.000000          0.000000      0.000000       0.000000  \n",
       "50%        0.000000          0.000000      0.000000       0.000000  \n",
       "75%        0.000000          0.000000      0.000000       0.000000  \n",
       "max        1.000000          1.000000      1.000000       1.000000  "
      ]
     },
     "execution_count": 4,
     "metadata": {},
     "output_type": "execute_result"
    }
   ],
   "source": [
    "#data summary \n",
    "sdf.describe()"
   ]
  },
  {
   "cell_type": "code",
   "execution_count": 5,
   "metadata": {
    "colab": {
     "base_uri": "https://localhost:8080/",
     "height": 421
    },
    "id": "MKY_BXs8NUZ8",
    "outputId": "ea4c4ccd-c49d-4e73-e56a-37d98542864d"
   },
   "outputs": [
    {
     "data": {
      "text/html": [
       "<div>\n",
       "<style scoped>\n",
       "    .dataframe tbody tr th:only-of-type {\n",
       "        vertical-align: middle;\n",
       "    }\n",
       "\n",
       "    .dataframe tbody tr th {\n",
       "        vertical-align: top;\n",
       "    }\n",
       "\n",
       "    .dataframe thead th {\n",
       "        text-align: right;\n",
       "    }\n",
       "</style>\n",
       "<table border=\"1\" class=\"dataframe\">\n",
       "  <thead>\n",
       "    <tr style=\"text-align: right;\">\n",
       "      <th></th>\n",
       "      <th>timestamp</th>\n",
       "      <th>company</th>\n",
       "      <th>level</th>\n",
       "      <th>title</th>\n",
       "      <th>totalyearlycompensation</th>\n",
       "      <th>location</th>\n",
       "      <th>yearsofexperience</th>\n",
       "      <th>yearsatcompany</th>\n",
       "      <th>tag</th>\n",
       "      <th>basesalary</th>\n",
       "      <th>...</th>\n",
       "      <th>Doctorate_Degree</th>\n",
       "      <th>Highschool</th>\n",
       "      <th>Some_College</th>\n",
       "      <th>Race_Asian</th>\n",
       "      <th>Race_White</th>\n",
       "      <th>Race_Two_Or_More</th>\n",
       "      <th>Race_Black</th>\n",
       "      <th>Race_Hispanic</th>\n",
       "      <th>Race</th>\n",
       "      <th>Education</th>\n",
       "    </tr>\n",
       "  </thead>\n",
       "  <tbody>\n",
       "    <tr>\n",
       "      <th>0</th>\n",
       "      <td>6/7/2017 11:33:27</td>\n",
       "      <td>Oracle</td>\n",
       "      <td>L3</td>\n",
       "      <td>Product Manager</td>\n",
       "      <td>127000</td>\n",
       "      <td>Redwood City, CA</td>\n",
       "      <td>1.5</td>\n",
       "      <td>1.5</td>\n",
       "      <td>NaN</td>\n",
       "      <td>107000.0</td>\n",
       "      <td>...</td>\n",
       "      <td>0</td>\n",
       "      <td>0</td>\n",
       "      <td>0</td>\n",
       "      <td>0</td>\n",
       "      <td>0</td>\n",
       "      <td>0</td>\n",
       "      <td>0</td>\n",
       "      <td>0</td>\n",
       "      <td>NaN</td>\n",
       "      <td>NaN</td>\n",
       "    </tr>\n",
       "    <tr>\n",
       "      <th>1</th>\n",
       "      <td>6/10/2017 17:11:29</td>\n",
       "      <td>eBay</td>\n",
       "      <td>SE 2</td>\n",
       "      <td>Software Engineer</td>\n",
       "      <td>100000</td>\n",
       "      <td>San Francisco, CA</td>\n",
       "      <td>5.0</td>\n",
       "      <td>3.0</td>\n",
       "      <td>NaN</td>\n",
       "      <td>0.0</td>\n",
       "      <td>...</td>\n",
       "      <td>0</td>\n",
       "      <td>0</td>\n",
       "      <td>0</td>\n",
       "      <td>0</td>\n",
       "      <td>0</td>\n",
       "      <td>0</td>\n",
       "      <td>0</td>\n",
       "      <td>0</td>\n",
       "      <td>NaN</td>\n",
       "      <td>NaN</td>\n",
       "    </tr>\n",
       "    <tr>\n",
       "      <th>2</th>\n",
       "      <td>6/11/2017 14:53:57</td>\n",
       "      <td>Amazon</td>\n",
       "      <td>L7</td>\n",
       "      <td>Product Manager</td>\n",
       "      <td>310000</td>\n",
       "      <td>Seattle, WA</td>\n",
       "      <td>8.0</td>\n",
       "      <td>0.0</td>\n",
       "      <td>NaN</td>\n",
       "      <td>155000.0</td>\n",
       "      <td>...</td>\n",
       "      <td>0</td>\n",
       "      <td>0</td>\n",
       "      <td>0</td>\n",
       "      <td>0</td>\n",
       "      <td>0</td>\n",
       "      <td>0</td>\n",
       "      <td>0</td>\n",
       "      <td>0</td>\n",
       "      <td>NaN</td>\n",
       "      <td>NaN</td>\n",
       "    </tr>\n",
       "    <tr>\n",
       "      <th>3</th>\n",
       "      <td>6/17/2017 0:23:14</td>\n",
       "      <td>Apple</td>\n",
       "      <td>M1</td>\n",
       "      <td>Software Engineering Manager</td>\n",
       "      <td>372000</td>\n",
       "      <td>Sunnyvale, CA</td>\n",
       "      <td>7.0</td>\n",
       "      <td>5.0</td>\n",
       "      <td>NaN</td>\n",
       "      <td>157000.0</td>\n",
       "      <td>...</td>\n",
       "      <td>0</td>\n",
       "      <td>0</td>\n",
       "      <td>0</td>\n",
       "      <td>0</td>\n",
       "      <td>0</td>\n",
       "      <td>0</td>\n",
       "      <td>0</td>\n",
       "      <td>0</td>\n",
       "      <td>NaN</td>\n",
       "      <td>NaN</td>\n",
       "    </tr>\n",
       "    <tr>\n",
       "      <th>4</th>\n",
       "      <td>6/20/2017 10:58:51</td>\n",
       "      <td>Microsoft</td>\n",
       "      <td>60</td>\n",
       "      <td>Software Engineer</td>\n",
       "      <td>157000</td>\n",
       "      <td>Mountain View, CA</td>\n",
       "      <td>5.0</td>\n",
       "      <td>3.0</td>\n",
       "      <td>NaN</td>\n",
       "      <td>0.0</td>\n",
       "      <td>...</td>\n",
       "      <td>0</td>\n",
       "      <td>0</td>\n",
       "      <td>0</td>\n",
       "      <td>0</td>\n",
       "      <td>0</td>\n",
       "      <td>0</td>\n",
       "      <td>0</td>\n",
       "      <td>0</td>\n",
       "      <td>NaN</td>\n",
       "      <td>NaN</td>\n",
       "    </tr>\n",
       "  </tbody>\n",
       "</table>\n",
       "<p>5 rows × 29 columns</p>\n",
       "</div>"
      ],
      "text/plain": [
       "            timestamp    company level                         title  \\\n",
       "0   6/7/2017 11:33:27     Oracle    L3               Product Manager   \n",
       "1  6/10/2017 17:11:29       eBay  SE 2             Software Engineer   \n",
       "2  6/11/2017 14:53:57     Amazon    L7               Product Manager   \n",
       "3   6/17/2017 0:23:14      Apple    M1  Software Engineering Manager   \n",
       "4  6/20/2017 10:58:51  Microsoft    60             Software Engineer   \n",
       "\n",
       "   totalyearlycompensation           location  yearsofexperience  \\\n",
       "0                   127000   Redwood City, CA                1.5   \n",
       "1                   100000  San Francisco, CA                5.0   \n",
       "2                   310000        Seattle, WA                8.0   \n",
       "3                   372000      Sunnyvale, CA                7.0   \n",
       "4                   157000  Mountain View, CA                5.0   \n",
       "\n",
       "   yearsatcompany  tag  basesalary  ...  Doctorate_Degree  Highschool  \\\n",
       "0             1.5  NaN    107000.0  ...                 0           0   \n",
       "1             3.0  NaN         0.0  ...                 0           0   \n",
       "2             0.0  NaN    155000.0  ...                 0           0   \n",
       "3             5.0  NaN    157000.0  ...                 0           0   \n",
       "4             3.0  NaN         0.0  ...                 0           0   \n",
       "\n",
       "  Some_College Race_Asian  Race_White  Race_Two_Or_More  Race_Black  \\\n",
       "0            0          0           0                 0           0   \n",
       "1            0          0           0                 0           0   \n",
       "2            0          0           0                 0           0   \n",
       "3            0          0           0                 0           0   \n",
       "4            0          0           0                 0           0   \n",
       "\n",
       "   Race_Hispanic  Race  Education  \n",
       "0              0   NaN        NaN  \n",
       "1              0   NaN        NaN  \n",
       "2              0   NaN        NaN  \n",
       "3              0   NaN        NaN  \n",
       "4              0   NaN        NaN  \n",
       "\n",
       "[5 rows x 29 columns]"
      ]
     },
     "execution_count": 5,
     "metadata": {},
     "output_type": "execute_result"
    }
   ],
   "source": [
    "sdf.head()"
   ]
  },
  {
   "cell_type": "code",
   "execution_count": 52,
   "metadata": {
    "colab": {
     "base_uri": "https://localhost:8080/",
     "height": 421
    },
    "id": "-S9hwP62NUZ9",
    "outputId": "0649a871-590f-41f9-f85b-cad1648b2b77"
   },
   "outputs": [
    {
     "data": {
      "text/html": [
       "<div>\n",
       "<style scoped>\n",
       "    .dataframe tbody tr th:only-of-type {\n",
       "        vertical-align: middle;\n",
       "    }\n",
       "\n",
       "    .dataframe tbody tr th {\n",
       "        vertical-align: top;\n",
       "    }\n",
       "\n",
       "    .dataframe thead th {\n",
       "        text-align: right;\n",
       "    }\n",
       "</style>\n",
       "<table border=\"1\" class=\"dataframe\">\n",
       "  <thead>\n",
       "    <tr style=\"text-align: right;\">\n",
       "      <th></th>\n",
       "      <th>timestamp</th>\n",
       "      <th>company</th>\n",
       "      <th>level</th>\n",
       "      <th>title</th>\n",
       "      <th>totalyearlycompensation</th>\n",
       "      <th>location</th>\n",
       "      <th>yearsofexperience</th>\n",
       "      <th>yearsatcompany</th>\n",
       "      <th>tag</th>\n",
       "      <th>basesalary</th>\n",
       "      <th>...</th>\n",
       "      <th>Doctorate_Degree</th>\n",
       "      <th>Highschool</th>\n",
       "      <th>Some_College</th>\n",
       "      <th>Race_Asian</th>\n",
       "      <th>Race_White</th>\n",
       "      <th>Race_Two_Or_More</th>\n",
       "      <th>Race_Black</th>\n",
       "      <th>Race_Hispanic</th>\n",
       "      <th>Race</th>\n",
       "      <th>Education</th>\n",
       "    </tr>\n",
       "  </thead>\n",
       "  <tbody>\n",
       "    <tr>\n",
       "      <th>15710</th>\n",
       "      <td>1/27/2020 22:59:06</td>\n",
       "      <td>Google</td>\n",
       "      <td>L6</td>\n",
       "      <td>Software Engineer</td>\n",
       "      <td>400000</td>\n",
       "      <td>660</td>\n",
       "      <td>5.0</td>\n",
       "      <td>5.0</td>\n",
       "      <td>Distributed Systems (Back-End)</td>\n",
       "      <td>210000.0</td>\n",
       "      <td>...</td>\n",
       "      <td>1</td>\n",
       "      <td>0</td>\n",
       "      <td>0</td>\n",
       "      <td>1</td>\n",
       "      <td>0</td>\n",
       "      <td>0</td>\n",
       "      <td>0</td>\n",
       "      <td>0</td>\n",
       "      <td>Asian</td>\n",
       "      <td>PhD</td>\n",
       "    </tr>\n",
       "    <tr>\n",
       "      <th>23532</th>\n",
       "      <td>7/3/2020 19:56:38</td>\n",
       "      <td>Microsoft</td>\n",
       "      <td>61</td>\n",
       "      <td>Software Engineer</td>\n",
       "      <td>136000</td>\n",
       "      <td>553</td>\n",
       "      <td>3.0</td>\n",
       "      <td>2.0</td>\n",
       "      <td>DevOps</td>\n",
       "      <td>124000.0</td>\n",
       "      <td>...</td>\n",
       "      <td>0</td>\n",
       "      <td>0</td>\n",
       "      <td>0</td>\n",
       "      <td>0</td>\n",
       "      <td>0</td>\n",
       "      <td>1</td>\n",
       "      <td>0</td>\n",
       "      <td>0</td>\n",
       "      <td>Two Or More</td>\n",
       "      <td>Bachelor's Degree</td>\n",
       "    </tr>\n",
       "    <tr>\n",
       "      <th>23533</th>\n",
       "      <td>7/3/2020 20:03:57</td>\n",
       "      <td>Google</td>\n",
       "      <td>L5</td>\n",
       "      <td>Software Engineer</td>\n",
       "      <td>337000</td>\n",
       "      <td>593</td>\n",
       "      <td>6.0</td>\n",
       "      <td>6.0</td>\n",
       "      <td>Full Stack</td>\n",
       "      <td>177000.0</td>\n",
       "      <td>...</td>\n",
       "      <td>0</td>\n",
       "      <td>0</td>\n",
       "      <td>0</td>\n",
       "      <td>1</td>\n",
       "      <td>0</td>\n",
       "      <td>0</td>\n",
       "      <td>0</td>\n",
       "      <td>0</td>\n",
       "      <td>Asian</td>\n",
       "      <td>Bachelor's Degree</td>\n",
       "    </tr>\n",
       "    <tr>\n",
       "      <th>23534</th>\n",
       "      <td>7/3/2020 20:05:37</td>\n",
       "      <td>Microsoft</td>\n",
       "      <td>62</td>\n",
       "      <td>Software Engineer</td>\n",
       "      <td>222000</td>\n",
       "      <td>620</td>\n",
       "      <td>4.0</td>\n",
       "      <td>4.0</td>\n",
       "      <td>API Development (Back-End)</td>\n",
       "      <td>164000.0</td>\n",
       "      <td>...</td>\n",
       "      <td>0</td>\n",
       "      <td>0</td>\n",
       "      <td>0</td>\n",
       "      <td>1</td>\n",
       "      <td>0</td>\n",
       "      <td>0</td>\n",
       "      <td>0</td>\n",
       "      <td>0</td>\n",
       "      <td>Asian</td>\n",
       "      <td>Master's Degree</td>\n",
       "    </tr>\n",
       "    <tr>\n",
       "      <th>23535</th>\n",
       "      <td>7/3/2020 20:19:06</td>\n",
       "      <td>Blend</td>\n",
       "      <td>IC3</td>\n",
       "      <td>Software Engineer</td>\n",
       "      <td>187000</td>\n",
       "      <td>596</td>\n",
       "      <td>5.0</td>\n",
       "      <td>0.0</td>\n",
       "      <td>Full Stack</td>\n",
       "      <td>165000.0</td>\n",
       "      <td>...</td>\n",
       "      <td>0</td>\n",
       "      <td>0</td>\n",
       "      <td>0</td>\n",
       "      <td>0</td>\n",
       "      <td>1</td>\n",
       "      <td>0</td>\n",
       "      <td>0</td>\n",
       "      <td>0</td>\n",
       "      <td>White</td>\n",
       "      <td>Bachelor's Degree</td>\n",
       "    </tr>\n",
       "  </tbody>\n",
       "</table>\n",
       "<p>5 rows × 29 columns</p>\n",
       "</div>"
      ],
      "text/plain": [
       "                timestamp    company level              title  \\\n",
       "15710  1/27/2020 22:59:06     Google    L6  Software Engineer   \n",
       "23532   7/3/2020 19:56:38  Microsoft    61  Software Engineer   \n",
       "23533   7/3/2020 20:03:57     Google    L5  Software Engineer   \n",
       "23534   7/3/2020 20:05:37  Microsoft    62  Software Engineer   \n",
       "23535   7/3/2020 20:19:06      Blend   IC3  Software Engineer   \n",
       "\n",
       "       totalyearlycompensation  location  yearsofexperience  yearsatcompany  \\\n",
       "15710                   400000       660                5.0             5.0   \n",
       "23532                   136000       553                3.0             2.0   \n",
       "23533                   337000       593                6.0             6.0   \n",
       "23534                   222000       620                4.0             4.0   \n",
       "23535                   187000       596                5.0             0.0   \n",
       "\n",
       "                                  tag  basesalary  ...  Doctorate_Degree  \\\n",
       "15710  Distributed Systems (Back-End)    210000.0  ...                 1   \n",
       "23532                          DevOps    124000.0  ...                 0   \n",
       "23533                      Full Stack    177000.0  ...                 0   \n",
       "23534      API Development (Back-End)    164000.0  ...                 0   \n",
       "23535                      Full Stack    165000.0  ...                 0   \n",
       "\n",
       "       Highschool Some_College Race_Asian  Race_White  Race_Two_Or_More  \\\n",
       "15710           0            0          1           0                 0   \n",
       "23532           0            0          0           0                 1   \n",
       "23533           0            0          1           0                 0   \n",
       "23534           0            0          1           0                 0   \n",
       "23535           0            0          0           1                 0   \n",
       "\n",
       "       Race_Black  Race_Hispanic         Race          Education  \n",
       "15710           0              0        Asian                PhD  \n",
       "23532           0              0  Two Or More  Bachelor's Degree  \n",
       "23533           0              0        Asian  Bachelor's Degree  \n",
       "23534           0              0        Asian    Master's Degree  \n",
       "23535           0              0        White  Bachelor's Degree  \n",
       "\n",
       "[5 rows x 29 columns]"
      ]
     },
     "execution_count": 52,
     "metadata": {},
     "output_type": "execute_result"
    }
   ],
   "source": [
    "#sdf = sdf((\"timestamp\",\"company\",\"title\",\"location\",\"yearsofexperience\", \"basesalary\"))\n",
    "#sdf = sdf.rename(columns = {'yearsofexperience' : 'salary'})# , axis=1)\n",
    "sdf.head()"
   ]
  },
  {
   "cell_type": "code",
   "execution_count": 53,
   "metadata": {
    "colab": {
     "base_uri": "https://localhost:8080/",
     "height": 421
    },
    "id": "jeoaaf0ZNUZ9",
    "outputId": "8f1bf9af-61c3-49b5-b7f9-4bd12cc73927"
   },
   "outputs": [
    {
     "data": {
      "text/html": [
       "<div>\n",
       "<style scoped>\n",
       "    .dataframe tbody tr th:only-of-type {\n",
       "        vertical-align: middle;\n",
       "    }\n",
       "\n",
       "    .dataframe tbody tr th {\n",
       "        vertical-align: top;\n",
       "    }\n",
       "\n",
       "    .dataframe thead th {\n",
       "        text-align: right;\n",
       "    }\n",
       "</style>\n",
       "<table border=\"1\" class=\"dataframe\">\n",
       "  <thead>\n",
       "    <tr style=\"text-align: right;\">\n",
       "      <th></th>\n",
       "      <th>timestamp</th>\n",
       "      <th>company</th>\n",
       "      <th>level</th>\n",
       "      <th>title</th>\n",
       "      <th>totalyearlycompensation</th>\n",
       "      <th>location</th>\n",
       "      <th>yearsofexperience</th>\n",
       "      <th>yearsatcompany</th>\n",
       "      <th>tag</th>\n",
       "      <th>basesalary</th>\n",
       "      <th>...</th>\n",
       "      <th>Doctorate_Degree</th>\n",
       "      <th>Highschool</th>\n",
       "      <th>Some_College</th>\n",
       "      <th>Race_Asian</th>\n",
       "      <th>Race_White</th>\n",
       "      <th>Race_Two_Or_More</th>\n",
       "      <th>Race_Black</th>\n",
       "      <th>Race_Hispanic</th>\n",
       "      <th>Race</th>\n",
       "      <th>Education</th>\n",
       "    </tr>\n",
       "  </thead>\n",
       "  <tbody>\n",
       "    <tr>\n",
       "      <th>15710</th>\n",
       "      <td>1/27/2020 22:59:06</td>\n",
       "      <td>Google</td>\n",
       "      <td>L6</td>\n",
       "      <td>Software Engineer</td>\n",
       "      <td>400000</td>\n",
       "      <td>660</td>\n",
       "      <td>5.0</td>\n",
       "      <td>5.0</td>\n",
       "      <td>Distributed Systems (Back-End)</td>\n",
       "      <td>210000.0</td>\n",
       "      <td>...</td>\n",
       "      <td>1</td>\n",
       "      <td>0</td>\n",
       "      <td>0</td>\n",
       "      <td>1</td>\n",
       "      <td>0</td>\n",
       "      <td>0</td>\n",
       "      <td>0</td>\n",
       "      <td>0</td>\n",
       "      <td>Asian</td>\n",
       "      <td>PhD</td>\n",
       "    </tr>\n",
       "    <tr>\n",
       "      <th>23532</th>\n",
       "      <td>7/3/2020 19:56:38</td>\n",
       "      <td>Microsoft</td>\n",
       "      <td>61</td>\n",
       "      <td>Software Engineer</td>\n",
       "      <td>136000</td>\n",
       "      <td>553</td>\n",
       "      <td>3.0</td>\n",
       "      <td>2.0</td>\n",
       "      <td>DevOps</td>\n",
       "      <td>124000.0</td>\n",
       "      <td>...</td>\n",
       "      <td>0</td>\n",
       "      <td>0</td>\n",
       "      <td>0</td>\n",
       "      <td>0</td>\n",
       "      <td>0</td>\n",
       "      <td>1</td>\n",
       "      <td>0</td>\n",
       "      <td>0</td>\n",
       "      <td>Two Or More</td>\n",
       "      <td>Bachelor's Degree</td>\n",
       "    </tr>\n",
       "    <tr>\n",
       "      <th>23533</th>\n",
       "      <td>7/3/2020 20:03:57</td>\n",
       "      <td>Google</td>\n",
       "      <td>L5</td>\n",
       "      <td>Software Engineer</td>\n",
       "      <td>337000</td>\n",
       "      <td>593</td>\n",
       "      <td>6.0</td>\n",
       "      <td>6.0</td>\n",
       "      <td>Full Stack</td>\n",
       "      <td>177000.0</td>\n",
       "      <td>...</td>\n",
       "      <td>0</td>\n",
       "      <td>0</td>\n",
       "      <td>0</td>\n",
       "      <td>1</td>\n",
       "      <td>0</td>\n",
       "      <td>0</td>\n",
       "      <td>0</td>\n",
       "      <td>0</td>\n",
       "      <td>Asian</td>\n",
       "      <td>Bachelor's Degree</td>\n",
       "    </tr>\n",
       "    <tr>\n",
       "      <th>23534</th>\n",
       "      <td>7/3/2020 20:05:37</td>\n",
       "      <td>Microsoft</td>\n",
       "      <td>62</td>\n",
       "      <td>Software Engineer</td>\n",
       "      <td>222000</td>\n",
       "      <td>620</td>\n",
       "      <td>4.0</td>\n",
       "      <td>4.0</td>\n",
       "      <td>API Development (Back-End)</td>\n",
       "      <td>164000.0</td>\n",
       "      <td>...</td>\n",
       "      <td>0</td>\n",
       "      <td>0</td>\n",
       "      <td>0</td>\n",
       "      <td>1</td>\n",
       "      <td>0</td>\n",
       "      <td>0</td>\n",
       "      <td>0</td>\n",
       "      <td>0</td>\n",
       "      <td>Asian</td>\n",
       "      <td>Master's Degree</td>\n",
       "    </tr>\n",
       "    <tr>\n",
       "      <th>23535</th>\n",
       "      <td>7/3/2020 20:19:06</td>\n",
       "      <td>Blend</td>\n",
       "      <td>IC3</td>\n",
       "      <td>Software Engineer</td>\n",
       "      <td>187000</td>\n",
       "      <td>596</td>\n",
       "      <td>5.0</td>\n",
       "      <td>0.0</td>\n",
       "      <td>Full Stack</td>\n",
       "      <td>165000.0</td>\n",
       "      <td>...</td>\n",
       "      <td>0</td>\n",
       "      <td>0</td>\n",
       "      <td>0</td>\n",
       "      <td>0</td>\n",
       "      <td>1</td>\n",
       "      <td>0</td>\n",
       "      <td>0</td>\n",
       "      <td>0</td>\n",
       "      <td>White</td>\n",
       "      <td>Bachelor's Degree</td>\n",
       "    </tr>\n",
       "  </tbody>\n",
       "</table>\n",
       "<p>5 rows × 29 columns</p>\n",
       "</div>"
      ],
      "text/plain": [
       "                timestamp    company level              title  \\\n",
       "15710  1/27/2020 22:59:06     Google    L6  Software Engineer   \n",
       "23532   7/3/2020 19:56:38  Microsoft    61  Software Engineer   \n",
       "23533   7/3/2020 20:03:57     Google    L5  Software Engineer   \n",
       "23534   7/3/2020 20:05:37  Microsoft    62  Software Engineer   \n",
       "23535   7/3/2020 20:19:06      Blend   IC3  Software Engineer   \n",
       "\n",
       "       totalyearlycompensation  location  yearsofexperience  yearsatcompany  \\\n",
       "15710                   400000       660                5.0             5.0   \n",
       "23532                   136000       553                3.0             2.0   \n",
       "23533                   337000       593                6.0             6.0   \n",
       "23534                   222000       620                4.0             4.0   \n",
       "23535                   187000       596                5.0             0.0   \n",
       "\n",
       "                                  tag  basesalary  ...  Doctorate_Degree  \\\n",
       "15710  Distributed Systems (Back-End)    210000.0  ...                 1   \n",
       "23532                          DevOps    124000.0  ...                 0   \n",
       "23533                      Full Stack    177000.0  ...                 0   \n",
       "23534      API Development (Back-End)    164000.0  ...                 0   \n",
       "23535                      Full Stack    165000.0  ...                 0   \n",
       "\n",
       "       Highschool Some_College Race_Asian  Race_White  Race_Two_Or_More  \\\n",
       "15710           0            0          1           0                 0   \n",
       "23532           0            0          0           0                 1   \n",
       "23533           0            0          1           0                 0   \n",
       "23534           0            0          1           0                 0   \n",
       "23535           0            0          0           1                 0   \n",
       "\n",
       "       Race_Black  Race_Hispanic         Race          Education  \n",
       "15710           0              0        Asian                PhD  \n",
       "23532           0              0  Two Or More  Bachelor's Degree  \n",
       "23533           0              0        Asian  Bachelor's Degree  \n",
       "23534           0              0        Asian    Master's Degree  \n",
       "23535           0              0        White  Bachelor's Degree  \n",
       "\n",
       "[5 rows x 29 columns]"
      ]
     },
     "execution_count": 53,
     "metadata": {},
     "output_type": "execute_result"
    }
   ],
   "source": [
    "sdf = sdf[sdf[\"basesalary\"].notnull()]\n",
    "sdf.head()\n"
   ]
  },
  {
   "cell_type": "code",
   "execution_count": 54,
   "metadata": {
    "colab": {
     "base_uri": "https://localhost:8080/"
    },
    "id": "23CrhQbiNUZ-",
    "outputId": "d4a4fc9b-784c-45a3-de25-03981cb9280a"
   },
   "outputs": [
    {
     "name": "stdout",
     "output_type": "stream",
     "text": [
      "<class 'pandas.core.frame.DataFrame'>\n",
      "Int64Index: 21146 entries, 15710 to 61984\n",
      "Data columns (total 29 columns):\n",
      " #   Column                   Non-Null Count  Dtype  \n",
      "---  ------                   --------------  -----  \n",
      " 0   timestamp                21146 non-null  object \n",
      " 1   company                  21146 non-null  object \n",
      " 2   level                    21146 non-null  object \n",
      " 3   title                    21146 non-null  object \n",
      " 4   totalyearlycompensation  21146 non-null  int64  \n",
      " 5   location                 21146 non-null  int32  \n",
      " 6   yearsofexperience        21146 non-null  float64\n",
      " 7   yearsatcompany           21146 non-null  float64\n",
      " 8   tag                      21146 non-null  object \n",
      " 9   basesalary               21146 non-null  float64\n",
      " 10  stockgrantvalue          21146 non-null  float64\n",
      " 11  bonus                    21146 non-null  float64\n",
      " 12  gender                   21146 non-null  object \n",
      " 13  otherdetails             21146 non-null  object \n",
      " 14  cityid                   21146 non-null  int64  \n",
      " 15  dmaid                    21146 non-null  float64\n",
      " 16  rowNumber                21146 non-null  int64  \n",
      " 17  Masters_Degree           21146 non-null  int64  \n",
      " 18  Bachelors_Degree         21146 non-null  int64  \n",
      " 19  Doctorate_Degree         21146 non-null  int64  \n",
      " 20  Highschool               21146 non-null  int64  \n",
      " 21  Some_College             21146 non-null  int64  \n",
      " 22  Race_Asian               21146 non-null  int64  \n",
      " 23  Race_White               21146 non-null  int64  \n",
      " 24  Race_Two_Or_More         21146 non-null  int64  \n",
      " 25  Race_Black               21146 non-null  int64  \n",
      " 26  Race_Hispanic            21146 non-null  int64  \n",
      " 27  Race                     21146 non-null  object \n",
      " 28  Education                21146 non-null  object \n",
      "dtypes: float64(6), int32(1), int64(13), object(9)\n",
      "memory usage: 4.8+ MB\n"
     ]
    }
   ],
   "source": [
    "sdf.info()"
   ]
  },
  {
   "cell_type": "code",
   "execution_count": 55,
   "metadata": {
    "colab": {
     "base_uri": "https://localhost:8080/"
    },
    "id": "EsjUxAclNUZ-",
    "outputId": "de7c23d5-7052-4440-d986-aa6317fba6ce"
   },
   "outputs": [
    {
     "data": {
      "text/plain": [
       "timestamp                  0\n",
       "company                    0\n",
       "level                      0\n",
       "title                      0\n",
       "totalyearlycompensation    0\n",
       "location                   0\n",
       "yearsofexperience          0\n",
       "yearsatcompany             0\n",
       "tag                        0\n",
       "basesalary                 0\n",
       "stockgrantvalue            0\n",
       "bonus                      0\n",
       "gender                     0\n",
       "otherdetails               0\n",
       "cityid                     0\n",
       "dmaid                      0\n",
       "rowNumber                  0\n",
       "Masters_Degree             0\n",
       "Bachelors_Degree           0\n",
       "Doctorate_Degree           0\n",
       "Highschool                 0\n",
       "Some_College               0\n",
       "Race_Asian                 0\n",
       "Race_White                 0\n",
       "Race_Two_Or_More           0\n",
       "Race_Black                 0\n",
       "Race_Hispanic              0\n",
       "Race                       0\n",
       "Education                  0\n",
       "dtype: int64"
      ]
     },
     "execution_count": 55,
     "metadata": {},
     "output_type": "execute_result"
    }
   ],
   "source": [
    "#cleaning the data\n",
    "sdf = sdf.dropna()\n",
    "sdf.isnull().sum()"
   ]
  },
  {
   "cell_type": "code",
   "execution_count": 56,
   "metadata": {
    "colab": {
     "base_uri": "https://localhost:8080/"
    },
    "id": "o9irCHijNUZ_",
    "outputId": "e8de114b-a736-4341-f63b-05ccf375cbfc"
   },
   "outputs": [
    {
     "name": "stdout",
     "output_type": "stream",
     "text": [
      "<class 'pandas.core.frame.DataFrame'>\n",
      "Int64Index: 21146 entries, 15710 to 61984\n",
      "Data columns (total 29 columns):\n",
      " #   Column                   Non-Null Count  Dtype  \n",
      "---  ------                   --------------  -----  \n",
      " 0   timestamp                21146 non-null  object \n",
      " 1   company                  21146 non-null  object \n",
      " 2   level                    21146 non-null  object \n",
      " 3   title                    21146 non-null  object \n",
      " 4   totalyearlycompensation  21146 non-null  int64  \n",
      " 5   location                 21146 non-null  int32  \n",
      " 6   yearsofexperience        21146 non-null  float64\n",
      " 7   yearsatcompany           21146 non-null  float64\n",
      " 8   tag                      21146 non-null  object \n",
      " 9   basesalary               21146 non-null  float64\n",
      " 10  stockgrantvalue          21146 non-null  float64\n",
      " 11  bonus                    21146 non-null  float64\n",
      " 12  gender                   21146 non-null  object \n",
      " 13  otherdetails             21146 non-null  object \n",
      " 14  cityid                   21146 non-null  int64  \n",
      " 15  dmaid                    21146 non-null  float64\n",
      " 16  rowNumber                21146 non-null  int64  \n",
      " 17  Masters_Degree           21146 non-null  int64  \n",
      " 18  Bachelors_Degree         21146 non-null  int64  \n",
      " 19  Doctorate_Degree         21146 non-null  int64  \n",
      " 20  Highschool               21146 non-null  int64  \n",
      " 21  Some_College             21146 non-null  int64  \n",
      " 22  Race_Asian               21146 non-null  int64  \n",
      " 23  Race_White               21146 non-null  int64  \n",
      " 24  Race_Two_Or_More         21146 non-null  int64  \n",
      " 25  Race_Black               21146 non-null  int64  \n",
      " 26  Race_Hispanic            21146 non-null  int64  \n",
      " 27  Race                     21146 non-null  object \n",
      " 28  Education                21146 non-null  object \n",
      "dtypes: float64(6), int32(1), int64(13), object(9)\n",
      "memory usage: 4.8+ MB\n"
     ]
    }
   ],
   "source": [
    "#User with 'data' in the title\n",
    "#sdf = sdf[sdf[\"title\"] == \"Data\"]\n",
    "#sdf = sdf.drop(\"title\", axis=1)\n",
    "sdf.info()"
   ]
  },
  {
   "cell_type": "code",
   "execution_count": 57,
   "metadata": {
    "colab": {
     "base_uri": "https://localhost:8080/"
    },
    "id": "2-I2q70dNUaA",
    "outputId": "6ae95e0f-f2c0-4ef4-fd02-a106046cf661"
   },
   "outputs": [
    {
     "data": {
      "text/plain": [
       "620    2484\n",
       "596    1694\n",
       "471    1556\n",
       "553     747\n",
       "42      627\n",
       "       ... \n",
       "649       1\n",
       "5         1\n",
       "359       1\n",
       "547       1\n",
       "517       1\n",
       "Name: location, Length: 767, dtype: int64"
      ]
     },
     "execution_count": 57,
     "metadata": {},
     "output_type": "execute_result"
    }
   ],
   "source": [
    "#\n",
    "sdf['location'].value_counts()"
   ]
  },
  {
   "cell_type": "code",
   "execution_count": 58,
   "metadata": {
    "colab": {
     "base_uri": "https://localhost:8080/",
     "height": 738
    },
    "id": "hl5BWAB3NUaA",
    "outputId": "1e1f5339-81bc-45ec-dc69-5c41e155cebf"
   },
   "outputs": [
    {
     "data": {
      "image/png": "[encoded data removed]",
      "text/plain": [
       "<Figure size 864x504 with 1 Axes>"
      ]
     },
     "metadata": {
      "needs_background": "light"
     },
     "output_type": "display_data"
    }
   ],
   "source": [
    "#Inspecting the salary range by Boxplot\n",
    "fig, ax = plt.subplots(1,1, figsize=(12, 7))\n",
    "sdf.boxplot('basesalary', 'location', ax=ax)\n",
    "plt.suptitle('basesalary (US$) v location')\n",
    "plt.title('')\n",
    "plt.ylabel('basesalary')\n",
    "plt.xticks(rotation=90)\n",
    "plt.show()\n"
   ]
  },
  {
   "cell_type": "code",
   "execution_count": 59,
   "metadata": {
    "id": "MVuk9UsqNUaB"
   },
   "outputs": [],
   "source": [
    "sdf = sdf[sdf[\"basesalary\"] <= 250000]\n",
    "sdf = sdf[sdf[\"basesalary\"] >= 10000]\n",
    "sdf = sdf[sdf['location'] != 'Other']"
   ]
  },
  {
   "cell_type": "code",
   "execution_count": 60,
   "metadata": {
    "colab": {
     "base_uri": "https://localhost:8080/",
     "height": 53
    },
    "id": "1RQmQrA6NUaB",
    "outputId": "c5f4354a-26de-4a96-c8d2-bda2db764dc4"
   },
   "outputs": [
    {
     "data": {
      "text/plain": [
       "\"\\nfig, ax = plt.subplots(1,1, figsize=(12, 7))\\nsdf.boxplot('salary', 'country', ax=ax)\\nplt.suptitle('salary (US$) v country')\\nplt.title('')\\nplt.ylabel('salary')\\nplt.xticks(rotation=90)\\nplt.show()\\n\""
      ]
     },
     "execution_count": 60,
     "metadata": {},
     "output_type": "execute_result"
    }
   ],
   "source": [
    "'''\n",
    "fig, ax = plt.subplots(1,1, figsize=(12, 7))\n",
    "sdf.boxplot('salary', 'country', ax=ax)\n",
    "plt.suptitle('salary (US$) v country')\n",
    "plt.title('')\n",
    "plt.ylabel('salary')\n",
    "plt.xticks(rotation=90)\n",
    "plt.show()\n",
    "'''\n"
   ]
  },
  {
   "cell_type": "code",
   "execution_count": 61,
   "metadata": {
    "colab": {
     "base_uri": "https://localhost:8080/"
    },
    "id": "gT0AK6X9NUaC",
    "outputId": "235574b9-a07a-482c-88e8-32e4626d3a61"
   },
   "outputs": [
    {
     "data": {
      "text/plain": [
       "array([210000., 124000., 177000., 164000., 165000., 160000., 103000.,\n",
       "        78000., 130000., 140000., 150000.,  45000., 112000., 114000.,\n",
       "       167000., 155000., 187000., 110000., 153000., 111000., 215000.,\n",
       "       201000.,  27000., 180000.,  36000.,  53000., 170000., 250000.,\n",
       "       126000., 246000., 220000., 135000.,  74000., 120000.,  90000.,\n",
       "        66000., 127000.,  70000., 185000., 198000., 163000., 191000.,\n",
       "        40000., 107000., 142000.,  86000., 134000., 192000.,  95000.,\n",
       "       117000., 194000., 183000., 137000., 147000., 145000., 123000.,\n",
       "       159000., 171000.,  73000., 178000., 228000., 148000., 144000.,\n",
       "        99000.,  47000., 105000., 115000.,  17000., 129000.,  67000.,\n",
       "        92000.,  55000.,  83000., 121000.,  85000., 175000., 152000.,\n",
       "        84000., 200000., 119000.,  65000., 225000., 207000., 128000.,\n",
       "       151000.,  77000., 106000., 143000., 182000.,  54000., 195000.,\n",
       "        38000.,  23000., 122000., 100000., 162000., 174000., 156000.,\n",
       "        89000., 190000.,  68000.,  93000., 108000., 125000.,  31000.,\n",
       "        80000., 146000.,  57000.,  87000., 118000., 181000., 154000.,\n",
       "       179000., 136000., 166000.,  82000., 104000.,  33000., 184000.,\n",
       "        75000., 186000., 133000.,  42000.,  22000.,  21000.,  71000.,\n",
       "       149000.,  98000., 158000.,  32000., 109000., 131000., 132000.,\n",
       "       169000., 234000., 189000., 227000., 231000., 141000.,  96000.,\n",
       "        64000., 101000., 139000.,  18000.,  60000.,  43000.,  50000.,\n",
       "       172000., 205000.,  48000.,  58000., 203000., 168000., 188000.,\n",
       "        35000., 157000.,  69000., 138000., 116000., 102000.,  88000.,\n",
       "       235000., 230000., 214000., 240000., 204000., 219000.,  62000.,\n",
       "       176000., 193000.,  59000., 206000., 113000.,  97000., 216000.,\n",
       "       173000.,  34000., 208000.,  13000., 245000., 196000.,  91000.,\n",
       "        79000.,  30000., 202000.,  25000.,  11000., 212000.,  24000.,\n",
       "        12000., 197000.,  56000.,  19000.,  76000., 242000.,  10000.,\n",
       "       237000.,  20000.,  37000., 221000.,  44000., 232000., 213000.,\n",
       "       211000., 209000.,  52000.,  28000., 161000.,  41000., 224000.,\n",
       "       249000., 223000.,  39000.,  16000.,  72000.,  94000., 217000.,\n",
       "       222000., 239000., 238000.,  49000., 226000.,  46000.,  61000.,\n",
       "        14000.,  29000., 236000., 233000., 229000., 218000.,  81000.,\n",
       "        15000., 241000., 247000., 199000.,  63000.,  51000., 248000.,\n",
       "        26000., 243000., 244000.])"
      ]
     },
     "execution_count": 61,
     "metadata": {},
     "output_type": "execute_result"
    }
   ],
   "source": [
    "sdf[\"basesalary\"].unique()"
   ]
  },
  {
   "cell_type": "code",
   "execution_count": 62,
   "metadata": {
    "colab": {
     "base_uri": "https://localhost:8080/"
    },
    "id": "JP_vTOLVNUaC",
    "outputId": "8b0c3a51-3384-403c-901d-f3f3c5d852c8"
   },
   "outputs": [
    {
     "data": {
      "text/plain": [
       "array([660, 553, 593, 620, 596, 304, 690, 708,  42, 680, 606, 418,  36,\n",
       "       471, 597, 145, 452, 385, 268, 311, 453,  80, 172, 139, 503,  25,\n",
       "       511, 150, 100,  55,  59, 170, 560, 378, 373, 499, 555, 392, 298,\n",
       "       266, 726, 120, 243, 550, 174, 595, 683, 291, 585, 184, 430, 337,\n",
       "        62, 196, 449, 181, 523, 716, 141, 535, 627, 679, 632, 303, 363,\n",
       "       474, 462,  15, 178, 565, 461, 322, 190, 648, 274, 428, 714, 543,\n",
       "       634, 589, 194,  52, 540, 468, 514,  30, 130, 618, 232, 524, 609,\n",
       "       687, 346, 762, 318,  60, 410, 312, 527, 765, 725, 529,  13, 592,\n",
       "       612, 454, 251, 666, 402,  81, 681, 223, 640, 164, 107, 111, 601,\n",
       "       720, 241, 604, 463,  65, 323, 674,  41, 239, 393, 744,  85, 447,\n",
       "       321,  22, 368, 544, 315, 605, 344,  82, 688, 374, 441, 562, 283,\n",
       "       201, 227, 331, 623,  45, 258, 747, 728, 384, 313,  68, 446, 431,\n",
       "        19, 423, 492, 121, 320, 213,  49, 574, 659, 608, 494, 525, 412,\n",
       "       558,  27, 198, 180, 539, 215, 646, 260, 480, 406, 434, 287, 127,\n",
       "       310, 633, 487, 619, 177, 163,   4, 711, 228, 255,  50,  78, 582,\n",
       "       267, 542, 538,  43, 156,  79, 327,  96, 588, 159, 134, 103, 590,\n",
       "       552,  84, 102,  54,  87, 377,  92,  37, 280, 426, 665, 495, 199,\n",
       "       350, 753, 391, 409,  47, 336, 211, 324,  10, 613, 647, 497, 537,\n",
       "       651,  61, 416, 146, 470,  57, 421, 270, 672, 328, 288, 521, 206,\n",
       "       351, 179, 254,  97,  21, 662, 388, 235, 570, 168, 701, 109, 551,\n",
       "       244, 151, 128, 129, 189, 653, 655, 700, 317, 429, 135, 191,  35,\n",
       "        99, 405,  33, 722, 169, 569, 742, 360, 278, 397, 445, 758, 616,\n",
       "        26, 272, 575, 696, 314, 396, 340, 723, 398, 626, 571, 208, 732,\n",
       "       625, 269, 600, 173, 702,  18, 240, 607, 464, 104, 207, 554, 367,\n",
       "       253, 493, 400, 119, 698, 485, 673, 264, 686, 477, 231, 743, 296,\n",
       "       433, 224, 364, 420, 261, 167, 664, 432, 656, 284,  94,  66, 188,\n",
       "       693,  72, 759, 737, 265, 472, 715, 729, 466, 210, 478, 591, 386,\n",
       "       561, 734, 506, 663, 186, 520, 245,  71, 114, 292, 622, 375,  75,\n",
       "       496,  46, 459, 572, 741, 637, 193, 347, 577, 257, 617, 624, 362,\n",
       "        64, 248, 721,  56, 669, 105, 185,  70, 148, 541, 275, 389, 282,\n",
       "        32, 246,  98, 516, 342, 642, 746, 335, 691, 756, 486, 508, 488,\n",
       "       390, 750, 171, 263, 598, 203, 425, 705, 407,  90, 490, 479,  63,\n",
       "       376, 643, 234, 712,  89, 439, 299,   1, 101, 334, 504, 202, 161,\n",
       "       764, 475, 205, 684, 709,  40, 564, 379, 505, 644, 481, 333, 476,\n",
       "       748, 460, 162, 343, 125,  28, 685, 719, 113, 338, 678, 528, 332,\n",
       "       369,  67, 356, 427, 484, 222, 751, 286,  39, 345, 545, 568,   7,\n",
       "        69, 641, 699, 326, 713, 519, 354, 411, 250, 675, 515, 399, 307,\n",
       "       547, 359, 455,   5, 649, 182, 136, 526, 370, 652,  95, 217, 149,\n",
       "        74, 581, 417, 348, 584,  51, 220, 137, 500, 724, 456, 197, 469,\n",
       "       293, 144, 387, 489, 221, 706, 658, 556,  83,  76, 498, 218, 112,\n",
       "       491, 175, 546, 192, 187, 160, 694, 657, 438,  48, 507, 738, 735,\n",
       "       394, 639, 532, 209, 611, 155, 583, 502, 204, 518,  44, 325, 419,\n",
       "       236,  34, 395, 736, 219, 645, 133, 422, 440, 761, 110, 667,  86,\n",
       "       279, 482, 247, 510,   2, 131, 242, 635, 610, 302, 116, 444, 717,\n",
       "        17, 277, 256, 638,   6, 233, 718, 566, 140,  58, 704,  24, 403,\n",
       "       357, 271, 330, 603, 195, 757, 308, 650, 216, 371, 578, 509,  29,\n",
       "       692, 424, 754, 437, 295,  23, 615, 404, 745, 473, 289, 465, 152,\n",
       "       108, 752, 352, 214, 285, 531, 636,  73, 628,  53, 697, 281, 237,\n",
       "       349, 536, 576, 294, 458, 226, 579, 212, 372, 448, 594, 631,   0,\n",
       "       710, 143, 457, 124, 259,  77, 319, 309, 297, 413,  31, 415, 353,\n",
       "         3, 573, 450, 682,  91, 513, 661, 154, 273, 727, 381, 703, 301,\n",
       "       435, 401,   8, 157, 118, 586, 442, 580, 262, 329, 306, 677, 316,\n",
       "       166, 467, 730,   9,  14, 731, 733, 158, 559, 766, 522,  16, 689,\n",
       "       755, 436,  88, 341, 123, 339, 229, 366, 654, 501, 165, 361, 183,\n",
       "       290, 707, 533, 355, 238, 740, 383, 749, 142, 451, 614, 132, 382,\n",
       "       599, 138, 115, 695, 414, 530, 587, 365,  11, 534, 153, 117, 567,\n",
       "       106, 305, 548, 760,  12, 443, 670, 276,  93, 408, 358, 147, 300,\n",
       "       557,  20, 676, 671,  38, 483, 739, 602, 763, 230, 512, 621, 629,\n",
       "       122, 200, 630, 225, 549, 126, 249, 380, 668, 176, 563, 252, 517],\n",
       "      dtype=int64)"
      ]
     },
     "execution_count": 62,
     "metadata": {},
     "output_type": "execute_result"
    }
   ],
   "source": [
    "from sklearn.preprocessing import LabelEncoder\n",
    "le_location = LabelEncoder()\n",
    "sdf['location'] = le_location.fit_transform(sdf['location'])\n",
    "sdf[\"location\"].unique()\n"
   ]
  },
  {
   "cell_type": "code",
   "execution_count": 63,
   "metadata": {
    "colab": {
     "base_uri": "https://localhost:8080/"
    },
    "id": "zAnV1B4mpqJD",
    "outputId": "cb9b8c13-e3dd-449f-8330-09d113c7588e"
   },
   "outputs": [
    {
     "name": "stdout",
     "output_type": "stream",
     "text": [
      "[['Seattle, Washington' 'Software Engineering Manager' '15']]\n"
     ]
    }
   ],
   "source": [
    "print(X)"
   ]
  },
  {
   "cell_type": "code",
   "execution_count": 64,
   "metadata": {
    "colab": {
     "base_uri": "https://localhost:8080/"
    },
    "id": "neye40W2NUaC",
    "outputId": "4c80f657-ba73-48ff-d2c3-ddb1f5aac7f7"
   },
   "outputs": [
    {
     "name": "stdout",
     "output_type": "stream",
     "text": [
      "       totalyearlycompensation  location  yearsofexperience  yearsatcompany  \\\n",
      "15710                   400000       660                5.0             5.0   \n",
      "23532                   136000       553                3.0             2.0   \n",
      "23533                   337000       593                6.0             6.0   \n",
      "23534                   222000       620                4.0             4.0   \n",
      "23535                   187000       596                5.0             0.0   \n",
      "...                        ...       ...                ...             ...   \n",
      "61830                   241000       620                9.0             0.0   \n",
      "61834                   300000       596                5.0             0.0   \n",
      "61976                  1400000       385                5.0             4.0   \n",
      "61979                  1470000       597               21.0             9.0   \n",
      "61984                  1605000       181               16.0             2.0   \n",
      "\n",
      "       basesalary  stockgrantvalue     bonus  cityid  dmaid  rowNumber  \n",
      "15710    210000.0         145000.0   45000.0    7472  807.0      21208  \n",
      "23532    124000.0           1000.0   11000.0   11521  819.0      32237  \n",
      "23533    177000.0         125000.0   36000.0    7413  807.0      32239  \n",
      "23534    164000.0          38000.0   20000.0   11527  819.0      32240  \n",
      "23535    165000.0          22000.0       0.0    7419  807.0      32241  \n",
      "...           ...              ...       ...     ...    ...        ...  \n",
      "61830    150000.0          46000.0   45000.0   11527  819.0      83870  \n",
      "61834    180000.0         100000.0   20000.0    7419  807.0      83875  \n",
      "61976    235000.0           1165.0       0.0    7275  803.0      48059  \n",
      "61979    220000.0           1100.0  150000.0    7422  807.0      54398  \n",
      "61984    250000.0           1305.0   50000.0    7548  751.0      62843  \n",
      "\n",
      "[21146 rows x 10 columns]\n"
     ]
    }
   ],
   "source": [
    "#d = sdf.drop(\"company\", axis=1)\n",
    "X = sdf.drop(columns=[\"company\",\"title\",\"Education\",\"level\",\"Race\",\"tag\",\"timestamp\",\"otherdetails\",\"gender\",\"Masters_Degree\",\"Bachelors_Degree\",\"Doctorate_Degree\",\"Highschool\",\"Some_College\",  \"Race_Asian\",  \"Race_White\",  \"Race_Two_Or_More\",\"Race_Black\",\"Race_Hispanic\"])\n",
    "print(X)\n",
    "y = sdf[\"basesalary\"]\n",
    "#print(y)"
   ]
  },
  {
   "cell_type": "code",
   "execution_count": 65,
   "metadata": {
    "colab": {
     "base_uri": "https://localhost:8080/",
     "height": 363
    },
    "id": "rABFPI3iNUaC",
    "outputId": "42ab06b0-4ca4-4c9f-a9cd-5456323fbae2"
   },
   "outputs": [
    {
     "data": {
      "text/html": [
       "<style>#sk-container-id-5 {color: black;background-color: white;}#sk-container-id-5 pre{padding: 0;}#sk-container-id-5 div.sk-toggleable {background-color: white;}#sk-container-id-5 label.sk-toggleable__label {cursor: pointer;display: block;width: 100%;margin-bottom: 0;padding: 0.3em;box-sizing: border-box;text-align: center;}#sk-container-id-5 label.sk-toggleable__label-arrow:before {content: \"▸\";float: left;margin-right: 0.25em;color: #696969;}#sk-container-id-5 label.sk-toggleable__label-arrow:hover:before {color: black;}#sk-container-id-5 div.sk-estimator:hover label.sk-toggleable__label-arrow:before {color: black;}#sk-container-id-5 div.sk-toggleable__content {max-height: 0;max-width: 0;overflow: hidden;text-align: left;background-color: #f0f8ff;}#sk-container-id-5 div.sk-toggleable__content pre {margin: 0.2em;color: black;border-radius: 0.25em;background-color: #f0f8ff;}#sk-container-id-5 input.sk-toggleable__control:checked~div.sk-toggleable__content {max-height: 200px;max-width: 100%;overflow: auto;}#sk-container-id-5 input.sk-toggleable__control:checked~label.sk-toggleable__label-arrow:before {content: \"▾\";}#sk-container-id-5 div.sk-estimator input.sk-toggleable__control:checked~label.sk-toggleable__label {background-color: #d4ebff;}#sk-container-id-5 div.sk-label input.sk-toggleable__control:checked~label.sk-toggleable__label {background-color: #d4ebff;}#sk-container-id-5 input.sk-hidden--visually {border: 0;clip: rect(1px 1px 1px 1px);clip: rect(1px, 1px, 1px, 1px);height: 1px;margin: -1px;overflow: hidden;padding: 0;position: absolute;width: 1px;}#sk-container-id-5 div.sk-estimator {font-family: monospace;background-color: #f0f8ff;border: 1px dotted black;border-radius: 0.25em;box-sizing: border-box;margin-bottom: 0.5em;}#sk-container-id-5 div.sk-estimator:hover {background-color: #d4ebff;}#sk-container-id-5 div.sk-parallel-item::after {content: \"\";width: 100%;border-bottom: 1px solid gray;flex-grow: 1;}#sk-container-id-5 div.sk-label:hover label.sk-toggleable__label {background-color: #d4ebff;}#sk-container-id-5 div.sk-serial::before {content: \"\";position: absolute;border-left: 1px solid gray;box-sizing: border-box;top: 0;bottom: 0;left: 50%;z-index: 0;}#sk-container-id-5 div.sk-serial {display: flex;flex-direction: column;align-items: center;background-color: white;padding-right: 0.2em;padding-left: 0.2em;position: relative;}#sk-container-id-5 div.sk-item {position: relative;z-index: 1;}#sk-container-id-5 div.sk-parallel {display: flex;align-items: stretch;justify-content: center;background-color: white;position: relative;}#sk-container-id-5 div.sk-item::before, #sk-container-id-5 div.sk-parallel-item::before {content: \"\";position: absolute;border-left: 1px solid gray;box-sizing: border-box;top: 0;bottom: 0;left: 50%;z-index: -1;}#sk-container-id-5 div.sk-parallel-item {display: flex;flex-direction: column;z-index: 1;position: relative;background-color: white;}#sk-container-id-5 div.sk-parallel-item:first-child::after {align-self: flex-end;width: 50%;}#sk-container-id-5 div.sk-parallel-item:last-child::after {align-self: flex-start;width: 50%;}#sk-container-id-5 div.sk-parallel-item:only-child::after {width: 0;}#sk-container-id-5 div.sk-dashed-wrapped {border: 1px dashed gray;margin: 0 0.4em 0.5em 0.4em;box-sizing: border-box;padding-bottom: 0.4em;background-color: white;}#sk-container-id-5 div.sk-label label {font-family: monospace;font-weight: bold;display: inline-block;line-height: 1.2em;}#sk-container-id-5 div.sk-label-container {text-align: center;}#sk-container-id-5 div.sk-container {/* jupyter's `normalize.less` sets `[hidden] { display: none; }` but bootstrap.min.css set `[hidden] { display: none !important; }` so we also need the `!important` here to be able to override the default hidden behavior on the sphinx rendered scikit-learn.org. See: https://github.com/scikit-learn/scikit-learn/issues/21755 */display: inline-block !important;position: relative;}#sk-container-id-5 div.sk-text-repr-fallback {display: none;}</style><div id=\"sk-container-id-5\" class=\"sk-top-container\"><div class=\"sk-text-repr-fallback\"><pre>LinearRegression()</pre><b>In a Jupyter environment, please rerun this cell to show the HTML representation or trust the notebook. <br />On GitHub, the HTML representation is unable to render, please try loading this page with nbviewer.org.</b></div><div class=\"sk-container\" hidden><div class=\"sk-item\"><div class=\"sk-estimator sk-toggleable\"><input class=\"sk-toggleable__control sk-hidden--visually\" id=\"sk-estimator-id-7\" type=\"checkbox\" checked><label for=\"sk-estimator-id-7\" class=\"sk-toggleable__label sk-toggleable__label-arrow\">LinearRegression</label><div class=\"sk-toggleable__content\"><pre>LinearRegression()</pre></div></div></div></div></div>"
      ],
      "text/plain": [
       "LinearRegression()"
      ]
     },
     "execution_count": 65,
     "metadata": {},
     "output_type": "execute_result"
    }
   ],
   "source": [
    "from sklearn.linear_model import LinearRegression\n",
    "linear_reg = LinearRegression()\n",
    "#print(X)\n",
    "#z = float(X[\"timestamp\"].replace(\":\",\"\"))\n",
    "#print(z)\n",
    "\n",
    "#new = X[np.isfinite(X).all(1)]\n",
    "\n",
    "linear_reg.fit(X, y.values)\n",
    "\n"
   ]
  },
  {
   "cell_type": "code",
   "execution_count": 66,
   "metadata": {
    "colab": {
     "base_uri": "https://localhost:8080/",
     "height": 328
    },
    "id": "BFowhEP0NUaD",
    "outputId": "b13e6015-8810-4938-d777-8860b2857248"
   },
   "outputs": [],
   "source": [
    "y_pred = linear_reg.predict(X)"
   ]
  },
  {
   "cell_type": "code",
   "execution_count": 67,
   "metadata": {
    "colab": {
     "base_uri": "https://localhost:8080/",
     "height": 200
    },
    "id": "MzkYd2SwNUaD",
    "outputId": "e8a9adf8-e0cb-4ec5-9bf3-782c83d861a7"
   },
   "outputs": [],
   "source": [
    "from sklearn.metrics import mean_squared_error, mean_absolute_error\n",
    "import numpy as np\n",
    "error = np.sqrt(mean_squared_error(y, y_pred))"
   ]
  },
  {
   "cell_type": "code",
   "execution_count": 68,
   "metadata": {
    "id": "ttfOgTD7NUaD"
   },
   "outputs": [
    {
     "data": {
      "text/plain": [
       "5.6954361507781826e-11"
      ]
     },
     "execution_count": 68,
     "metadata": {},
     "output_type": "execute_result"
    }
   ],
   "source": [
    "error"
   ]
  },
  {
   "cell_type": "code",
   "execution_count": 69,
   "metadata": {
    "id": "-aG1JDmONUaD"
   },
   "outputs": [
    {
     "data": {
      "text/html": [
       "<style>#sk-container-id-6 {color: black;background-color: white;}#sk-container-id-6 pre{padding: 0;}#sk-container-id-6 div.sk-toggleable {background-color: white;}#sk-container-id-6 label.sk-toggleable__label {cursor: pointer;display: block;width: 100%;margin-bottom: 0;padding: 0.3em;box-sizing: border-box;text-align: center;}#sk-container-id-6 label.sk-toggleable__label-arrow:before {content: \"▸\";float: left;margin-right: 0.25em;color: #696969;}#sk-container-id-6 label.sk-toggleable__label-arrow:hover:before {color: black;}#sk-container-id-6 div.sk-estimator:hover label.sk-toggleable__label-arrow:before {color: black;}#sk-container-id-6 div.sk-toggleable__content {max-height: 0;max-width: 0;overflow: hidden;text-align: left;background-color: #f0f8ff;}#sk-container-id-6 div.sk-toggleable__content pre {margin: 0.2em;color: black;border-radius: 0.25em;background-color: #f0f8ff;}#sk-container-id-6 input.sk-toggleable__control:checked~div.sk-toggleable__content {max-height: 200px;max-width: 100%;overflow: auto;}#sk-container-id-6 input.sk-toggleable__control:checked~label.sk-toggleable__label-arrow:before {content: \"▾\";}#sk-container-id-6 div.sk-estimator input.sk-toggleable__control:checked~label.sk-toggleable__label {background-color: #d4ebff;}#sk-container-id-6 div.sk-label input.sk-toggleable__control:checked~label.sk-toggleable__label {background-color: #d4ebff;}#sk-container-id-6 input.sk-hidden--visually {border: 0;clip: rect(1px 1px 1px 1px);clip: rect(1px, 1px, 1px, 1px);height: 1px;margin: -1px;overflow: hidden;padding: 0;position: absolute;width: 1px;}#sk-container-id-6 div.sk-estimator {font-family: monospace;background-color: #f0f8ff;border: 1px dotted black;border-radius: 0.25em;box-sizing: border-box;margin-bottom: 0.5em;}#sk-container-id-6 div.sk-estimator:hover {background-color: #d4ebff;}#sk-container-id-6 div.sk-parallel-item::after {content: \"\";width: 100%;border-bottom: 1px solid gray;flex-grow: 1;}#sk-container-id-6 div.sk-label:hover label.sk-toggleable__label {background-color: #d4ebff;}#sk-container-id-6 div.sk-serial::before {content: \"\";position: absolute;border-left: 1px solid gray;box-sizing: border-box;top: 0;bottom: 0;left: 50%;z-index: 0;}#sk-container-id-6 div.sk-serial {display: flex;flex-direction: column;align-items: center;background-color: white;padding-right: 0.2em;padding-left: 0.2em;position: relative;}#sk-container-id-6 div.sk-item {position: relative;z-index: 1;}#sk-container-id-6 div.sk-parallel {display: flex;align-items: stretch;justify-content: center;background-color: white;position: relative;}#sk-container-id-6 div.sk-item::before, #sk-container-id-6 div.sk-parallel-item::before {content: \"\";position: absolute;border-left: 1px solid gray;box-sizing: border-box;top: 0;bottom: 0;left: 50%;z-index: -1;}#sk-container-id-6 div.sk-parallel-item {display: flex;flex-direction: column;z-index: 1;position: relative;background-color: white;}#sk-container-id-6 div.sk-parallel-item:first-child::after {align-self: flex-end;width: 50%;}#sk-container-id-6 div.sk-parallel-item:last-child::after {align-self: flex-start;width: 50%;}#sk-container-id-6 div.sk-parallel-item:only-child::after {width: 0;}#sk-container-id-6 div.sk-dashed-wrapped {border: 1px dashed gray;margin: 0 0.4em 0.5em 0.4em;box-sizing: border-box;padding-bottom: 0.4em;background-color: white;}#sk-container-id-6 div.sk-label label {font-family: monospace;font-weight: bold;display: inline-block;line-height: 1.2em;}#sk-container-id-6 div.sk-label-container {text-align: center;}#sk-container-id-6 div.sk-container {/* jupyter's `normalize.less` sets `[hidden] { display: none; }` but bootstrap.min.css set `[hidden] { display: none !important; }` so we also need the `!important` here to be able to override the default hidden behavior on the sphinx rendered scikit-learn.org. See: https://github.com/scikit-learn/scikit-learn/issues/21755 */display: inline-block !important;position: relative;}#sk-container-id-6 div.sk-text-repr-fallback {display: none;}</style><div id=\"sk-container-id-6\" class=\"sk-top-container\"><div class=\"sk-text-repr-fallback\"><pre>DecisionTreeRegressor(random_state=0)</pre><b>In a Jupyter environment, please rerun this cell to show the HTML representation or trust the notebook. <br />On GitHub, the HTML representation is unable to render, please try loading this page with nbviewer.org.</b></div><div class=\"sk-container\" hidden><div class=\"sk-item\"><div class=\"sk-estimator sk-toggleable\"><input class=\"sk-toggleable__control sk-hidden--visually\" id=\"sk-estimator-id-8\" type=\"checkbox\" checked><label for=\"sk-estimator-id-8\" class=\"sk-toggleable__label sk-toggleable__label-arrow\">DecisionTreeRegressor</label><div class=\"sk-toggleable__content\"><pre>DecisionTreeRegressor(random_state=0)</pre></div></div></div></div></div>"
      ],
      "text/plain": [
       "DecisionTreeRegressor(random_state=0)"
      ]
     },
     "execution_count": 69,
     "metadata": {},
     "output_type": "execute_result"
    }
   ],
   "source": [
    "\n",
    "from sklearn.tree import DecisionTreeRegressor\n",
    "dec_tree_reg = DecisionTreeRegressor(random_state=0)\n",
    "dec_tree_reg.fit(X, y.values)"
   ]
  },
  {
   "cell_type": "code",
   "execution_count": 70,
   "metadata": {
    "id": "Z8fE-ovmNUaE"
   },
   "outputs": [],
   "source": [
    "y_pred = dec_tree_reg.predict(X)\n"
   ]
  },
  {
   "cell_type": "code",
   "execution_count": 71,
   "metadata": {
    "id": "Yk5fGcPmNUaE"
   },
   "outputs": [
    {
     "name": "stdout",
     "output_type": "stream",
     "text": [
      "$0.00\n"
     ]
    }
   ],
   "source": [
    "error = np.sqrt(mean_squared_error(y, y_pred))\n",
    "print(\"${:,.02f}\".format(error))"
   ]
  },
  {
   "cell_type": "code",
   "execution_count": 72,
   "metadata": {
    "id": "KQy3QNRGNUaE"
   },
   "outputs": [
    {
     "data": {
      "text/html": [
       "<style>#sk-container-id-7 {color: black;background-color: white;}#sk-container-id-7 pre{padding: 0;}#sk-container-id-7 div.sk-toggleable {background-color: white;}#sk-container-id-7 label.sk-toggleable__label {cursor: pointer;display: block;width: 100%;margin-bottom: 0;padding: 0.3em;box-sizing: border-box;text-align: center;}#sk-container-id-7 label.sk-toggleable__label-arrow:before {content: \"▸\";float: left;margin-right: 0.25em;color: #696969;}#sk-container-id-7 label.sk-toggleable__label-arrow:hover:before {color: black;}#sk-container-id-7 div.sk-estimator:hover label.sk-toggleable__label-arrow:before {color: black;}#sk-container-id-7 div.sk-toggleable__content {max-height: 0;max-width: 0;overflow: hidden;text-align: left;background-color: #f0f8ff;}#sk-container-id-7 div.sk-toggleable__content pre {margin: 0.2em;color: black;border-radius: 0.25em;background-color: #f0f8ff;}#sk-container-id-7 input.sk-toggleable__control:checked~div.sk-toggleable__content {max-height: 200px;max-width: 100%;overflow: auto;}#sk-container-id-7 input.sk-toggleable__control:checked~label.sk-toggleable__label-arrow:before {content: \"▾\";}#sk-container-id-7 div.sk-estimator input.sk-toggleable__control:checked~label.sk-toggleable__label {background-color: #d4ebff;}#sk-container-id-7 div.sk-label input.sk-toggleable__control:checked~label.sk-toggleable__label {background-color: #d4ebff;}#sk-container-id-7 input.sk-hidden--visually {border: 0;clip: rect(1px 1px 1px 1px);clip: rect(1px, 1px, 1px, 1px);height: 1px;margin: -1px;overflow: hidden;padding: 0;position: absolute;width: 1px;}#sk-container-id-7 div.sk-estimator {font-family: monospace;background-color: #f0f8ff;border: 1px dotted black;border-radius: 0.25em;box-sizing: border-box;margin-bottom: 0.5em;}#sk-container-id-7 div.sk-estimator:hover {background-color: #d4ebff;}#sk-container-id-7 div.sk-parallel-item::after {content: \"\";width: 100%;border-bottom: 1px solid gray;flex-grow: 1;}#sk-container-id-7 div.sk-label:hover label.sk-toggleable__label {background-color: #d4ebff;}#sk-container-id-7 div.sk-serial::before {content: \"\";position: absolute;border-left: 1px solid gray;box-sizing: border-box;top: 0;bottom: 0;left: 50%;z-index: 0;}#sk-container-id-7 div.sk-serial {display: flex;flex-direction: column;align-items: center;background-color: white;padding-right: 0.2em;padding-left: 0.2em;position: relative;}#sk-container-id-7 div.sk-item {position: relative;z-index: 1;}#sk-container-id-7 div.sk-parallel {display: flex;align-items: stretch;justify-content: center;background-color: white;position: relative;}#sk-container-id-7 div.sk-item::before, #sk-container-id-7 div.sk-parallel-item::before {content: \"\";position: absolute;border-left: 1px solid gray;box-sizing: border-box;top: 0;bottom: 0;left: 50%;z-index: -1;}#sk-container-id-7 div.sk-parallel-item {display: flex;flex-direction: column;z-index: 1;position: relative;background-color: white;}#sk-container-id-7 div.sk-parallel-item:first-child::after {align-self: flex-end;width: 50%;}#sk-container-id-7 div.sk-parallel-item:last-child::after {align-self: flex-start;width: 50%;}#sk-container-id-7 div.sk-parallel-item:only-child::after {width: 0;}#sk-container-id-7 div.sk-dashed-wrapped {border: 1px dashed gray;margin: 0 0.4em 0.5em 0.4em;box-sizing: border-box;padding-bottom: 0.4em;background-color: white;}#sk-container-id-7 div.sk-label label {font-family: monospace;font-weight: bold;display: inline-block;line-height: 1.2em;}#sk-container-id-7 div.sk-label-container {text-align: center;}#sk-container-id-7 div.sk-container {/* jupyter's `normalize.less` sets `[hidden] { display: none; }` but bootstrap.min.css set `[hidden] { display: none !important; }` so we also need the `!important` here to be able to override the default hidden behavior on the sphinx rendered scikit-learn.org. See: https://github.com/scikit-learn/scikit-learn/issues/21755 */display: inline-block !important;position: relative;}#sk-container-id-7 div.sk-text-repr-fallback {display: none;}</style><div id=\"sk-container-id-7\" class=\"sk-top-container\"><div class=\"sk-text-repr-fallback\"><pre>RandomForestRegressor(random_state=0)</pre><b>In a Jupyter environment, please rerun this cell to show the HTML representation or trust the notebook. <br />On GitHub, the HTML representation is unable to render, please try loading this page with nbviewer.org.</b></div><div class=\"sk-container\" hidden><div class=\"sk-item\"><div class=\"sk-estimator sk-toggleable\"><input class=\"sk-toggleable__control sk-hidden--visually\" id=\"sk-estimator-id-9\" type=\"checkbox\" checked><label for=\"sk-estimator-id-9\" class=\"sk-toggleable__label sk-toggleable__label-arrow\">RandomForestRegressor</label><div class=\"sk-toggleable__content\"><pre>RandomForestRegressor(random_state=0)</pre></div></div></div></div></div>"
      ],
      "text/plain": [
       "RandomForestRegressor(random_state=0)"
      ]
     },
     "execution_count": 72,
     "metadata": {},
     "output_type": "execute_result"
    }
   ],
   "source": [
    "from sklearn.ensemble import RandomForestRegressor\n",
    "random_forest_reg = RandomForestRegressor(random_state=0)\n",
    "random_forest_reg.fit(X, y.values)\n"
   ]
  },
  {
   "cell_type": "code",
   "execution_count": 73,
   "metadata": {
    "id": "aCqZDpgWNUaF"
   },
   "outputs": [],
   "source": [
    "y_pred = random_forest_reg.predict(X)"
   ]
  },
  {
   "cell_type": "code",
   "execution_count": 74,
   "metadata": {
    "id": "uTzUPPAaNUaF"
   },
   "outputs": [
    {
     "name": "stdout",
     "output_type": "stream",
     "text": [
      "$4.99\n"
     ]
    }
   ],
   "source": [
    "error = np.sqrt(mean_squared_error(y, y_pred))\n",
    "print(\"${:,.02f}\".format(error))"
   ]
  },
  {
   "cell_type": "code",
   "execution_count": 75,
   "metadata": {
    "id": "GzG-H6KZNUaG"
   },
   "outputs": [
    {
     "data": {
      "text/html": [
       "<style>#sk-container-id-8 {color: black;background-color: white;}#sk-container-id-8 pre{padding: 0;}#sk-container-id-8 div.sk-toggleable {background-color: white;}#sk-container-id-8 label.sk-toggleable__label {cursor: pointer;display: block;width: 100%;margin-bottom: 0;padding: 0.3em;box-sizing: border-box;text-align: center;}#sk-container-id-8 label.sk-toggleable__label-arrow:before {content: \"▸\";float: left;margin-right: 0.25em;color: #696969;}#sk-container-id-8 label.sk-toggleable__label-arrow:hover:before {color: black;}#sk-container-id-8 div.sk-estimator:hover label.sk-toggleable__label-arrow:before {color: black;}#sk-container-id-8 div.sk-toggleable__content {max-height: 0;max-width: 0;overflow: hidden;text-align: left;background-color: #f0f8ff;}#sk-container-id-8 div.sk-toggleable__content pre {margin: 0.2em;color: black;border-radius: 0.25em;background-color: #f0f8ff;}#sk-container-id-8 input.sk-toggleable__control:checked~div.sk-toggleable__content {max-height: 200px;max-width: 100%;overflow: auto;}#sk-container-id-8 input.sk-toggleable__control:checked~label.sk-toggleable__label-arrow:before {content: \"▾\";}#sk-container-id-8 div.sk-estimator input.sk-toggleable__control:checked~label.sk-toggleable__label {background-color: #d4ebff;}#sk-container-id-8 div.sk-label input.sk-toggleable__control:checked~label.sk-toggleable__label {background-color: #d4ebff;}#sk-container-id-8 input.sk-hidden--visually {border: 0;clip: rect(1px 1px 1px 1px);clip: rect(1px, 1px, 1px, 1px);height: 1px;margin: -1px;overflow: hidden;padding: 0;position: absolute;width: 1px;}#sk-container-id-8 div.sk-estimator {font-family: monospace;background-color: #f0f8ff;border: 1px dotted black;border-radius: 0.25em;box-sizing: border-box;margin-bottom: 0.5em;}#sk-container-id-8 div.sk-estimator:hover {background-color: #d4ebff;}#sk-container-id-8 div.sk-parallel-item::after {content: \"\";width: 100%;border-bottom: 1px solid gray;flex-grow: 1;}#sk-container-id-8 div.sk-label:hover label.sk-toggleable__label {background-color: #d4ebff;}#sk-container-id-8 div.sk-serial::before {content: \"\";position: absolute;border-left: 1px solid gray;box-sizing: border-box;top: 0;bottom: 0;left: 50%;z-index: 0;}#sk-container-id-8 div.sk-serial {display: flex;flex-direction: column;align-items: center;background-color: white;padding-right: 0.2em;padding-left: 0.2em;position: relative;}#sk-container-id-8 div.sk-item {position: relative;z-index: 1;}#sk-container-id-8 div.sk-parallel {display: flex;align-items: stretch;justify-content: center;background-color: white;position: relative;}#sk-container-id-8 div.sk-item::before, #sk-container-id-8 div.sk-parallel-item::before {content: \"\";position: absolute;border-left: 1px solid gray;box-sizing: border-box;top: 0;bottom: 0;left: 50%;z-index: -1;}#sk-container-id-8 div.sk-parallel-item {display: flex;flex-direction: column;z-index: 1;position: relative;background-color: white;}#sk-container-id-8 div.sk-parallel-item:first-child::after {align-self: flex-end;width: 50%;}#sk-container-id-8 div.sk-parallel-item:last-child::after {align-self: flex-start;width: 50%;}#sk-container-id-8 div.sk-parallel-item:only-child::after {width: 0;}#sk-container-id-8 div.sk-dashed-wrapped {border: 1px dashed gray;margin: 0 0.4em 0.5em 0.4em;box-sizing: border-box;padding-bottom: 0.4em;background-color: white;}#sk-container-id-8 div.sk-label label {font-family: monospace;font-weight: bold;display: inline-block;line-height: 1.2em;}#sk-container-id-8 div.sk-label-container {text-align: center;}#sk-container-id-8 div.sk-container {/* jupyter's `normalize.less` sets `[hidden] { display: none; }` but bootstrap.min.css set `[hidden] { display: none !important; }` so we also need the `!important` here to be able to override the default hidden behavior on the sphinx rendered scikit-learn.org. See: https://github.com/scikit-learn/scikit-learn/issues/21755 */display: inline-block !important;position: relative;}#sk-container-id-8 div.sk-text-repr-fallback {display: none;}</style><div id=\"sk-container-id-8\" class=\"sk-top-container\"><div class=\"sk-text-repr-fallback\"><pre>GridSearchCV(estimator=DecisionTreeRegressor(random_state=0),\n",
       "             param_grid={&#x27;max_depth&#x27;: [None, 2, 4, 6, 8, 10, 12]},\n",
       "             scoring=&#x27;neg_mean_squared_error&#x27;)</pre><b>In a Jupyter environment, please rerun this cell to show the HTML representation or trust the notebook. <br />On GitHub, the HTML representation is unable to render, please try loading this page with nbviewer.org.</b></div><div class=\"sk-container\" hidden><div class=\"sk-item sk-dashed-wrapped\"><div class=\"sk-label-container\"><div class=\"sk-label sk-toggleable\"><input class=\"sk-toggleable__control sk-hidden--visually\" id=\"sk-estimator-id-10\" type=\"checkbox\" ><label for=\"sk-estimator-id-10\" class=\"sk-toggleable__label sk-toggleable__label-arrow\">GridSearchCV</label><div class=\"sk-toggleable__content\"><pre>GridSearchCV(estimator=DecisionTreeRegressor(random_state=0),\n",
       "             param_grid={&#x27;max_depth&#x27;: [None, 2, 4, 6, 8, 10, 12]},\n",
       "             scoring=&#x27;neg_mean_squared_error&#x27;)</pre></div></div></div><div class=\"sk-parallel\"><div class=\"sk-parallel-item\"><div class=\"sk-item\"><div class=\"sk-label-container\"><div class=\"sk-label sk-toggleable\"><input class=\"sk-toggleable__control sk-hidden--visually\" id=\"sk-estimator-id-11\" type=\"checkbox\" ><label for=\"sk-estimator-id-11\" class=\"sk-toggleable__label sk-toggleable__label-arrow\">estimator: DecisionTreeRegressor</label><div class=\"sk-toggleable__content\"><pre>DecisionTreeRegressor(random_state=0)</pre></div></div></div><div class=\"sk-serial\"><div class=\"sk-item\"><div class=\"sk-estimator sk-toggleable\"><input class=\"sk-toggleable__control sk-hidden--visually\" id=\"sk-estimator-id-12\" type=\"checkbox\" ><label for=\"sk-estimator-id-12\" class=\"sk-toggleable__label sk-toggleable__label-arrow\">DecisionTreeRegressor</label><div class=\"sk-toggleable__content\"><pre>DecisionTreeRegressor(random_state=0)</pre></div></div></div></div></div></div></div></div></div></div>"
      ],
      "text/plain": [
       "GridSearchCV(estimator=DecisionTreeRegressor(random_state=0),\n",
       "             param_grid={'max_depth': [None, 2, 4, 6, 8, 10, 12]},\n",
       "             scoring='neg_mean_squared_error')"
      ]
     },
     "execution_count": 75,
     "metadata": {},
     "output_type": "execute_result"
    }
   ],
   "source": [
    "from sklearn.model_selection import GridSearchCV\n",
    "\n",
    "max_depth = [None, 2,4,6,8,10,12]\n",
    "parameters = {\"max_depth\": max_depth}\n",
    "\n",
    "regressor = DecisionTreeRegressor(random_state=0)\n",
    "gs = GridSearchCV(regressor, parameters, scoring='neg_mean_squared_error')\n",
    "gs.fit(X, y.values)"
   ]
  },
  {
   "cell_type": "code",
   "execution_count": 76,
   "metadata": {
    "id": "j2FfddBMNUaG"
   },
   "outputs": [
    {
     "name": "stdout",
     "output_type": "stream",
     "text": [
      "$0.00\n"
     ]
    }
   ],
   "source": [
    "regressor = gs.best_estimator_\n",
    "\n",
    "regressor.fit(X, y.values)\n",
    "y_pred = regressor.predict(X)\n",
    "error = np.sqrt(mean_squared_error(y, y_pred))\n",
    "print(\"${:,.02f}\".format(error))"
   ]
  },
  {
   "cell_type": "code",
   "execution_count": 77,
   "metadata": {
    "id": "gwM5TjJLNUaG"
   },
   "outputs": [
    {
     "data": {
      "text/html": [
       "<div>\n",
       "<style scoped>\n",
       "    .dataframe tbody tr th:only-of-type {\n",
       "        vertical-align: middle;\n",
       "    }\n",
       "\n",
       "    .dataframe tbody tr th {\n",
       "        vertical-align: top;\n",
       "    }\n",
       "\n",
       "    .dataframe thead th {\n",
       "        text-align: right;\n",
       "    }\n",
       "</style>\n",
       "<table border=\"1\" class=\"dataframe\">\n",
       "  <thead>\n",
       "    <tr style=\"text-align: right;\">\n",
       "      <th></th>\n",
       "      <th>totalyearlycompensation</th>\n",
       "      <th>location</th>\n",
       "      <th>yearsofexperience</th>\n",
       "      <th>yearsatcompany</th>\n",
       "      <th>basesalary</th>\n",
       "      <th>stockgrantvalue</th>\n",
       "      <th>bonus</th>\n",
       "      <th>cityid</th>\n",
       "      <th>dmaid</th>\n",
       "      <th>rowNumber</th>\n",
       "    </tr>\n",
       "  </thead>\n",
       "  <tbody>\n",
       "    <tr>\n",
       "      <th>15710</th>\n",
       "      <td>400000</td>\n",
       "      <td>660</td>\n",
       "      <td>5.0</td>\n",
       "      <td>5.0</td>\n",
       "      <td>210000.0</td>\n",
       "      <td>145000.0</td>\n",
       "      <td>45000.0</td>\n",
       "      <td>7472</td>\n",
       "      <td>807.0</td>\n",
       "      <td>21208</td>\n",
       "    </tr>\n",
       "    <tr>\n",
       "      <th>23532</th>\n",
       "      <td>136000</td>\n",
       "      <td>553</td>\n",
       "      <td>3.0</td>\n",
       "      <td>2.0</td>\n",
       "      <td>124000.0</td>\n",
       "      <td>1000.0</td>\n",
       "      <td>11000.0</td>\n",
       "      <td>11521</td>\n",
       "      <td>819.0</td>\n",
       "      <td>32237</td>\n",
       "    </tr>\n",
       "    <tr>\n",
       "      <th>23533</th>\n",
       "      <td>337000</td>\n",
       "      <td>593</td>\n",
       "      <td>6.0</td>\n",
       "      <td>6.0</td>\n",
       "      <td>177000.0</td>\n",
       "      <td>125000.0</td>\n",
       "      <td>36000.0</td>\n",
       "      <td>7413</td>\n",
       "      <td>807.0</td>\n",
       "      <td>32239</td>\n",
       "    </tr>\n",
       "    <tr>\n",
       "      <th>23534</th>\n",
       "      <td>222000</td>\n",
       "      <td>620</td>\n",
       "      <td>4.0</td>\n",
       "      <td>4.0</td>\n",
       "      <td>164000.0</td>\n",
       "      <td>38000.0</td>\n",
       "      <td>20000.0</td>\n",
       "      <td>11527</td>\n",
       "      <td>819.0</td>\n",
       "      <td>32240</td>\n",
       "    </tr>\n",
       "    <tr>\n",
       "      <th>23535</th>\n",
       "      <td>187000</td>\n",
       "      <td>596</td>\n",
       "      <td>5.0</td>\n",
       "      <td>0.0</td>\n",
       "      <td>165000.0</td>\n",
       "      <td>22000.0</td>\n",
       "      <td>0.0</td>\n",
       "      <td>7419</td>\n",
       "      <td>807.0</td>\n",
       "      <td>32241</td>\n",
       "    </tr>\n",
       "    <tr>\n",
       "      <th>...</th>\n",
       "      <td>...</td>\n",
       "      <td>...</td>\n",
       "      <td>...</td>\n",
       "      <td>...</td>\n",
       "      <td>...</td>\n",
       "      <td>...</td>\n",
       "      <td>...</td>\n",
       "      <td>...</td>\n",
       "      <td>...</td>\n",
       "      <td>...</td>\n",
       "    </tr>\n",
       "    <tr>\n",
       "      <th>61830</th>\n",
       "      <td>241000</td>\n",
       "      <td>620</td>\n",
       "      <td>9.0</td>\n",
       "      <td>0.0</td>\n",
       "      <td>150000.0</td>\n",
       "      <td>46000.0</td>\n",
       "      <td>45000.0</td>\n",
       "      <td>11527</td>\n",
       "      <td>819.0</td>\n",
       "      <td>83870</td>\n",
       "    </tr>\n",
       "    <tr>\n",
       "      <th>61834</th>\n",
       "      <td>300000</td>\n",
       "      <td>596</td>\n",
       "      <td>5.0</td>\n",
       "      <td>0.0</td>\n",
       "      <td>180000.0</td>\n",
       "      <td>100000.0</td>\n",
       "      <td>20000.0</td>\n",
       "      <td>7419</td>\n",
       "      <td>807.0</td>\n",
       "      <td>83875</td>\n",
       "    </tr>\n",
       "    <tr>\n",
       "      <th>61976</th>\n",
       "      <td>1400000</td>\n",
       "      <td>385</td>\n",
       "      <td>5.0</td>\n",
       "      <td>4.0</td>\n",
       "      <td>235000.0</td>\n",
       "      <td>1165.0</td>\n",
       "      <td>0.0</td>\n",
       "      <td>7275</td>\n",
       "      <td>803.0</td>\n",
       "      <td>48059</td>\n",
       "    </tr>\n",
       "    <tr>\n",
       "      <th>61979</th>\n",
       "      <td>1470000</td>\n",
       "      <td>597</td>\n",
       "      <td>21.0</td>\n",
       "      <td>9.0</td>\n",
       "      <td>220000.0</td>\n",
       "      <td>1100.0</td>\n",
       "      <td>150000.0</td>\n",
       "      <td>7422</td>\n",
       "      <td>807.0</td>\n",
       "      <td>54398</td>\n",
       "    </tr>\n",
       "    <tr>\n",
       "      <th>61984</th>\n",
       "      <td>1605000</td>\n",
       "      <td>181</td>\n",
       "      <td>16.0</td>\n",
       "      <td>2.0</td>\n",
       "      <td>250000.0</td>\n",
       "      <td>1305.0</td>\n",
       "      <td>50000.0</td>\n",
       "      <td>7548</td>\n",
       "      <td>751.0</td>\n",
       "      <td>62843</td>\n",
       "    </tr>\n",
       "  </tbody>\n",
       "</table>\n",
       "<p>21146 rows × 10 columns</p>\n",
       "</div>"
      ],
      "text/plain": [
       "       totalyearlycompensation  location  yearsofexperience  yearsatcompany  \\\n",
       "15710                   400000       660                5.0             5.0   \n",
       "23532                   136000       553                3.0             2.0   \n",
       "23533                   337000       593                6.0             6.0   \n",
       "23534                   222000       620                4.0             4.0   \n",
       "23535                   187000       596                5.0             0.0   \n",
       "...                        ...       ...                ...             ...   \n",
       "61830                   241000       620                9.0             0.0   \n",
       "61834                   300000       596                5.0             0.0   \n",
       "61976                  1400000       385                5.0             4.0   \n",
       "61979                  1470000       597               21.0             9.0   \n",
       "61984                  1605000       181               16.0             2.0   \n",
       "\n",
       "       basesalary  stockgrantvalue     bonus  cityid  dmaid  rowNumber  \n",
       "15710    210000.0         145000.0   45000.0    7472  807.0      21208  \n",
       "23532    124000.0           1000.0   11000.0   11521  819.0      32237  \n",
       "23533    177000.0         125000.0   36000.0    7413  807.0      32239  \n",
       "23534    164000.0          38000.0   20000.0   11527  819.0      32240  \n",
       "23535    165000.0          22000.0       0.0    7419  807.0      32241  \n",
       "...           ...              ...       ...     ...    ...        ...  \n",
       "61830    150000.0          46000.0   45000.0   11527  819.0      83870  \n",
       "61834    180000.0         100000.0   20000.0    7419  807.0      83875  \n",
       "61976    235000.0           1165.0       0.0    7275  803.0      48059  \n",
       "61979    220000.0           1100.0  150000.0    7422  807.0      54398  \n",
       "61984    250000.0           1305.0   50000.0    7548  751.0      62843  \n",
       "\n",
       "[21146 rows x 10 columns]"
      ]
     },
     "execution_count": 77,
     "metadata": {},
     "output_type": "execute_result"
    }
   ],
   "source": [
    "X"
   ]
  },
  {
   "cell_type": "code",
   "execution_count": 78,
   "metadata": {
    "colab": {
     "base_uri": "https://localhost:8080/"
    },
    "id": "1evAi9JTNUaG",
    "outputId": "5b8ad799-8639-4f5f-cc05-90b82b6911df"
   },
   "outputs": [
    {
     "data": {
      "text/plain": [
       "array([['Seattle, Washington', 'Software Engineering Manager', '15']],\n",
       "      dtype='<U28')"
      ]
     },
     "execution_count": 78,
     "metadata": {},
     "output_type": "execute_result"
    }
   ],
   "source": [
    "# location,title,years of experience\n",
    "X = np.array([[\"Seattle, Washington\", \"Software Engineering Manager\", 15 ]])\n",
    "X"
   ]
  },
  {
   "cell_type": "code",
   "execution_count": 35,
   "metadata": {
    "colab": {
     "base_uri": "https://localhost:8080/",
     "height": 432
    },
    "id": "5KQvw6-sNUaH",
    "outputId": "60f34057-1ce5-43f0-84da-348f17dfea84"
   },
   "outputs": [
    {
     "ename": "ValueError",
     "evalue": "y contains previously unseen labels: 'Seattle, Washington'",
     "output_type": "error",
     "traceback": [
      "\u001b[1;31m---------------------------------------------------------------------------\u001b[0m",
      "\u001b[1;31mKeyError\u001b[0m                                  Traceback (most recent call last)",
      "File \u001b[1;32m~\\anaconda3\\lib\\site-packages\\sklearn\\utils\\_encode.py:224\u001b[0m, in \u001b[0;36m_encode\u001b[1;34m(values, uniques, check_unknown)\u001b[0m\n\u001b[0;32m    223\u001b[0m \u001b[38;5;28;01mtry\u001b[39;00m:\n\u001b[1;32m--> 224\u001b[0m     \u001b[38;5;28;01mreturn\u001b[39;00m \u001b[43m_map_to_integer\u001b[49m\u001b[43m(\u001b[49m\u001b[43mvalues\u001b[49m\u001b[43m,\u001b[49m\u001b[43m \u001b[49m\u001b[43muniques\u001b[49m\u001b[43m)\u001b[49m\n\u001b[0;32m    225\u001b[0m \u001b[38;5;28;01mexcept\u001b[39;00m \u001b[38;5;167;01mKeyError\u001b[39;00m \u001b[38;5;28;01mas\u001b[39;00m e:\n",
      "File \u001b[1;32m~\\anaconda3\\lib\\site-packages\\sklearn\\utils\\_encode.py:164\u001b[0m, in \u001b[0;36m_map_to_integer\u001b[1;34m(values, uniques)\u001b[0m\n\u001b[0;32m    163\u001b[0m table \u001b[38;5;241m=\u001b[39m _nandict({val: i \u001b[38;5;28;01mfor\u001b[39;00m i, val \u001b[38;5;129;01min\u001b[39;00m \u001b[38;5;28menumerate\u001b[39m(uniques)})\n\u001b[1;32m--> 164\u001b[0m \u001b[38;5;28;01mreturn\u001b[39;00m np\u001b[38;5;241m.\u001b[39marray([table[v] \u001b[38;5;28;01mfor\u001b[39;00m v \u001b[38;5;129;01min\u001b[39;00m values])\n",
      "File \u001b[1;32m~\\anaconda3\\lib\\site-packages\\sklearn\\utils\\_encode.py:164\u001b[0m, in \u001b[0;36m<listcomp>\u001b[1;34m(.0)\u001b[0m\n\u001b[0;32m    163\u001b[0m table \u001b[38;5;241m=\u001b[39m _nandict({val: i \u001b[38;5;28;01mfor\u001b[39;00m i, val \u001b[38;5;129;01min\u001b[39;00m \u001b[38;5;28menumerate\u001b[39m(uniques)})\n\u001b[1;32m--> 164\u001b[0m \u001b[38;5;28;01mreturn\u001b[39;00m np\u001b[38;5;241m.\u001b[39marray([\u001b[43mtable\u001b[49m\u001b[43m[\u001b[49m\u001b[43mv\u001b[49m\u001b[43m]\u001b[49m \u001b[38;5;28;01mfor\u001b[39;00m v \u001b[38;5;129;01min\u001b[39;00m values])\n",
      "File \u001b[1;32m~\\anaconda3\\lib\\site-packages\\sklearn\\utils\\_encode.py:158\u001b[0m, in \u001b[0;36m_nandict.__missing__\u001b[1;34m(self, key)\u001b[0m\n\u001b[0;32m    157\u001b[0m     \u001b[38;5;28;01mreturn\u001b[39;00m \u001b[38;5;28mself\u001b[39m\u001b[38;5;241m.\u001b[39mnan_value\n\u001b[1;32m--> 158\u001b[0m \u001b[38;5;28;01mraise\u001b[39;00m \u001b[38;5;167;01mKeyError\u001b[39;00m(key)\n",
      "\u001b[1;31mKeyError\u001b[0m: 'Seattle, Washington'",
      "\nDuring handling of the above exception, another exception occurred:\n",
      "\u001b[1;31mValueError\u001b[0m                                Traceback (most recent call last)",
      "Input \u001b[1;32mIn [35]\u001b[0m, in \u001b[0;36m<cell line: 1>\u001b[1;34m()\u001b[0m\n\u001b[1;32m----> 1\u001b[0m X[:, \u001b[38;5;241m0\u001b[39m] \u001b[38;5;241m=\u001b[39m \u001b[43mle_location\u001b[49m\u001b[38;5;241;43m.\u001b[39;49m\u001b[43mtransform\u001b[49m\u001b[43m(\u001b[49m\u001b[43mX\u001b[49m\u001b[43m[\u001b[49m\u001b[43m:\u001b[49m\u001b[43m,\u001b[49m\u001b[38;5;241;43m0\u001b[39;49m\u001b[43m]\u001b[49m\u001b[43m)\u001b[49m\n\u001b[0;32m      2\u001b[0m X[:, \u001b[38;5;241m1\u001b[39m] \u001b[38;5;241m=\u001b[39m le_title\u001b[38;5;241m.\u001b[39mtransform(X[:,\u001b[38;5;241m1\u001b[39m])\n\u001b[0;32m      3\u001b[0m X \u001b[38;5;241m=\u001b[39m X\u001b[38;5;241m.\u001b[39mastype(\u001b[38;5;28mfloat\u001b[39m)\n",
      "File \u001b[1;32m~\\anaconda3\\lib\\site-packages\\sklearn\\preprocessing\\_label.py:138\u001b[0m, in \u001b[0;36mLabelEncoder.transform\u001b[1;34m(self, y)\u001b[0m\n\u001b[0;32m    135\u001b[0m \u001b[38;5;28;01mif\u001b[39;00m _num_samples(y) \u001b[38;5;241m==\u001b[39m \u001b[38;5;241m0\u001b[39m:\n\u001b[0;32m    136\u001b[0m     \u001b[38;5;28;01mreturn\u001b[39;00m np\u001b[38;5;241m.\u001b[39marray([])\n\u001b[1;32m--> 138\u001b[0m \u001b[38;5;28;01mreturn\u001b[39;00m \u001b[43m_encode\u001b[49m\u001b[43m(\u001b[49m\u001b[43my\u001b[49m\u001b[43m,\u001b[49m\u001b[43m \u001b[49m\u001b[43muniques\u001b[49m\u001b[38;5;241;43m=\u001b[39;49m\u001b[38;5;28;43mself\u001b[39;49m\u001b[38;5;241;43m.\u001b[39;49m\u001b[43mclasses_\u001b[49m\u001b[43m)\u001b[49m\n",
      "File \u001b[1;32m~\\anaconda3\\lib\\site-packages\\sklearn\\utils\\_encode.py:226\u001b[0m, in \u001b[0;36m_encode\u001b[1;34m(values, uniques, check_unknown)\u001b[0m\n\u001b[0;32m    224\u001b[0m         \u001b[38;5;28;01mreturn\u001b[39;00m _map_to_integer(values, uniques)\n\u001b[0;32m    225\u001b[0m     \u001b[38;5;28;01mexcept\u001b[39;00m \u001b[38;5;167;01mKeyError\u001b[39;00m \u001b[38;5;28;01mas\u001b[39;00m e:\n\u001b[1;32m--> 226\u001b[0m         \u001b[38;5;28;01mraise\u001b[39;00m \u001b[38;5;167;01mValueError\u001b[39;00m(\u001b[38;5;124mf\u001b[39m\u001b[38;5;124m\"\u001b[39m\u001b[38;5;124my contains previously unseen labels: \u001b[39m\u001b[38;5;132;01m{\u001b[39;00m\u001b[38;5;28mstr\u001b[39m(e)\u001b[38;5;132;01m}\u001b[39;00m\u001b[38;5;124m\"\u001b[39m)\n\u001b[0;32m    227\u001b[0m \u001b[38;5;28;01melse\u001b[39;00m:\n\u001b[0;32m    228\u001b[0m     \u001b[38;5;28;01mif\u001b[39;00m check_unknown:\n",
      "\u001b[1;31mValueError\u001b[0m: y contains previously unseen labels: 'Seattle, Washington'"
     ]
    }
   ],
   "source": [
    "X[:, 0] = le_location.transform(X[:,0])\n",
    "X[:, 1] = le_title.transform(X[:,1])\n",
    "X = X.astype(float)\n",
    "X\n"
   ]
  },
  {
   "cell_type": "code",
   "execution_count": 36,
   "metadata": {
    "colab": {
     "base_uri": "https://localhost:8080/",
     "height": 328
    },
    "id": "tuXslvmgNUaH",
    "outputId": "cd6983ee-52eb-42eb-cc06-dd4bd41b4ca8"
   },
   "outputs": [
    {
     "name": "stderr",
     "output_type": "stream",
     "text": [
      "C:\\Users\\varun\\anaconda3\\lib\\site-packages\\sklearn\\base.py:450: UserWarning: X does not have valid feature names, but DecisionTreeRegressor was fitted with feature names\n",
      "  warnings.warn(\n"
     ]
    },
    {
     "ename": "ValueError",
     "evalue": "could not convert string to float: 'Seattle, Washington'",
     "output_type": "error",
     "traceback": [
      "\u001b[1;31m---------------------------------------------------------------------------\u001b[0m",
      "\u001b[1;31mValueError\u001b[0m                                Traceback (most recent call last)",
      "Input \u001b[1;32mIn [36]\u001b[0m, in \u001b[0;36m<cell line: 1>\u001b[1;34m()\u001b[0m\n\u001b[1;32m----> 1\u001b[0m y_pred \u001b[38;5;241m=\u001b[39m \u001b[43mregressor\u001b[49m\u001b[38;5;241;43m.\u001b[39;49m\u001b[43mpredict\u001b[49m\u001b[43m(\u001b[49m\u001b[43mX\u001b[49m\u001b[43m)\u001b[49m\n\u001b[0;32m      2\u001b[0m y_pred\n",
      "File \u001b[1;32m~\\anaconda3\\lib\\site-packages\\sklearn\\tree\\_classes.py:505\u001b[0m, in \u001b[0;36mBaseDecisionTree.predict\u001b[1;34m(self, X, check_input)\u001b[0m\n\u001b[0;32m    482\u001b[0m \u001b[38;5;124;03m\"\"\"Predict class or regression value for X.\u001b[39;00m\n\u001b[0;32m    483\u001b[0m \n\u001b[0;32m    484\u001b[0m \u001b[38;5;124;03mFor a classification model, the predicted class for each sample in X is\u001b[39;00m\n\u001b[1;32m   (...)\u001b[0m\n\u001b[0;32m    502\u001b[0m \u001b[38;5;124;03m    The predicted classes, or the predict values.\u001b[39;00m\n\u001b[0;32m    503\u001b[0m \u001b[38;5;124;03m\"\"\"\u001b[39;00m\n\u001b[0;32m    504\u001b[0m check_is_fitted(\u001b[38;5;28mself\u001b[39m)\n\u001b[1;32m--> 505\u001b[0m X \u001b[38;5;241m=\u001b[39m \u001b[38;5;28;43mself\u001b[39;49m\u001b[38;5;241;43m.\u001b[39;49m\u001b[43m_validate_X_predict\u001b[49m\u001b[43m(\u001b[49m\u001b[43mX\u001b[49m\u001b[43m,\u001b[49m\u001b[43m \u001b[49m\u001b[43mcheck_input\u001b[49m\u001b[43m)\u001b[49m\n\u001b[0;32m    506\u001b[0m proba \u001b[38;5;241m=\u001b[39m \u001b[38;5;28mself\u001b[39m\u001b[38;5;241m.\u001b[39mtree_\u001b[38;5;241m.\u001b[39mpredict(X)\n\u001b[0;32m    507\u001b[0m n_samples \u001b[38;5;241m=\u001b[39m X\u001b[38;5;241m.\u001b[39mshape[\u001b[38;5;241m0\u001b[39m]\n",
      "File \u001b[1;32m~\\anaconda3\\lib\\site-packages\\sklearn\\tree\\_classes.py:471\u001b[0m, in \u001b[0;36mBaseDecisionTree._validate_X_predict\u001b[1;34m(self, X, check_input)\u001b[0m\n\u001b[0;32m    469\u001b[0m \u001b[38;5;124;03m\"\"\"Validate the training data on predict (probabilities).\"\"\"\u001b[39;00m\n\u001b[0;32m    470\u001b[0m \u001b[38;5;28;01mif\u001b[39;00m check_input:\n\u001b[1;32m--> 471\u001b[0m     X \u001b[38;5;241m=\u001b[39m \u001b[38;5;28;43mself\u001b[39;49m\u001b[38;5;241;43m.\u001b[39;49m\u001b[43m_validate_data\u001b[49m\u001b[43m(\u001b[49m\u001b[43mX\u001b[49m\u001b[43m,\u001b[49m\u001b[43m \u001b[49m\u001b[43mdtype\u001b[49m\u001b[38;5;241;43m=\u001b[39;49m\u001b[43mDTYPE\u001b[49m\u001b[43m,\u001b[49m\u001b[43m \u001b[49m\u001b[43maccept_sparse\u001b[49m\u001b[38;5;241;43m=\u001b[39;49m\u001b[38;5;124;43m\"\u001b[39;49m\u001b[38;5;124;43mcsr\u001b[39;49m\u001b[38;5;124;43m\"\u001b[39;49m\u001b[43m,\u001b[49m\u001b[43m \u001b[49m\u001b[43mreset\u001b[49m\u001b[38;5;241;43m=\u001b[39;49m\u001b[38;5;28;43;01mFalse\u001b[39;49;00m\u001b[43m)\u001b[49m\n\u001b[0;32m    472\u001b[0m     \u001b[38;5;28;01mif\u001b[39;00m issparse(X) \u001b[38;5;129;01mand\u001b[39;00m (\n\u001b[0;32m    473\u001b[0m         X\u001b[38;5;241m.\u001b[39mindices\u001b[38;5;241m.\u001b[39mdtype \u001b[38;5;241m!=\u001b[39m np\u001b[38;5;241m.\u001b[39mintc \u001b[38;5;129;01mor\u001b[39;00m X\u001b[38;5;241m.\u001b[39mindptr\u001b[38;5;241m.\u001b[39mdtype \u001b[38;5;241m!=\u001b[39m np\u001b[38;5;241m.\u001b[39mintc\n\u001b[0;32m    474\u001b[0m     ):\n\u001b[0;32m    475\u001b[0m         \u001b[38;5;28;01mraise\u001b[39;00m \u001b[38;5;167;01mValueError\u001b[39;00m(\u001b[38;5;124m\"\u001b[39m\u001b[38;5;124mNo support for np.int64 index based sparse matrices\u001b[39m\u001b[38;5;124m\"\u001b[39m)\n",
      "File \u001b[1;32m~\\anaconda3\\lib\\site-packages\\sklearn\\base.py:577\u001b[0m, in \u001b[0;36mBaseEstimator._validate_data\u001b[1;34m(self, X, y, reset, validate_separately, **check_params)\u001b[0m\n\u001b[0;32m    575\u001b[0m     \u001b[38;5;28;01mraise\u001b[39;00m \u001b[38;5;167;01mValueError\u001b[39;00m(\u001b[38;5;124m\"\u001b[39m\u001b[38;5;124mValidation should be done on X, y or both.\u001b[39m\u001b[38;5;124m\"\u001b[39m)\n\u001b[0;32m    576\u001b[0m \u001b[38;5;28;01melif\u001b[39;00m \u001b[38;5;129;01mnot\u001b[39;00m no_val_X \u001b[38;5;129;01mand\u001b[39;00m no_val_y:\n\u001b[1;32m--> 577\u001b[0m     X \u001b[38;5;241m=\u001b[39m check_array(X, input_name\u001b[38;5;241m=\u001b[39m\u001b[38;5;124m\"\u001b[39m\u001b[38;5;124mX\u001b[39m\u001b[38;5;124m\"\u001b[39m, \u001b[38;5;241m*\u001b[39m\u001b[38;5;241m*\u001b[39mcheck_params)\n\u001b[0;32m    578\u001b[0m     out \u001b[38;5;241m=\u001b[39m X\n\u001b[0;32m    579\u001b[0m \u001b[38;5;28;01melif\u001b[39;00m no_val_X \u001b[38;5;129;01mand\u001b[39;00m \u001b[38;5;129;01mnot\u001b[39;00m no_val_y:\n",
      "File \u001b[1;32m~\\anaconda3\\lib\\site-packages\\sklearn\\utils\\validation.py:856\u001b[0m, in \u001b[0;36mcheck_array\u001b[1;34m(array, accept_sparse, accept_large_sparse, dtype, order, copy, force_all_finite, ensure_2d, allow_nd, ensure_min_samples, ensure_min_features, estimator, input_name)\u001b[0m\n\u001b[0;32m    854\u001b[0m         array \u001b[38;5;241m=\u001b[39m array\u001b[38;5;241m.\u001b[39mastype(dtype, casting\u001b[38;5;241m=\u001b[39m\u001b[38;5;124m\"\u001b[39m\u001b[38;5;124munsafe\u001b[39m\u001b[38;5;124m\"\u001b[39m, copy\u001b[38;5;241m=\u001b[39m\u001b[38;5;28;01mFalse\u001b[39;00m)\n\u001b[0;32m    855\u001b[0m     \u001b[38;5;28;01melse\u001b[39;00m:\n\u001b[1;32m--> 856\u001b[0m         array \u001b[38;5;241m=\u001b[39m \u001b[43mnp\u001b[49m\u001b[38;5;241;43m.\u001b[39;49m\u001b[43masarray\u001b[49m\u001b[43m(\u001b[49m\u001b[43marray\u001b[49m\u001b[43m,\u001b[49m\u001b[43m \u001b[49m\u001b[43morder\u001b[49m\u001b[38;5;241;43m=\u001b[39;49m\u001b[43morder\u001b[49m\u001b[43m,\u001b[49m\u001b[43m \u001b[49m\u001b[43mdtype\u001b[49m\u001b[38;5;241;43m=\u001b[39;49m\u001b[43mdtype\u001b[49m\u001b[43m)\u001b[49m\n\u001b[0;32m    857\u001b[0m \u001b[38;5;28;01mexcept\u001b[39;00m ComplexWarning \u001b[38;5;28;01mas\u001b[39;00m complex_warning:\n\u001b[0;32m    858\u001b[0m     \u001b[38;5;28;01mraise\u001b[39;00m \u001b[38;5;167;01mValueError\u001b[39;00m(\n\u001b[0;32m    859\u001b[0m         \u001b[38;5;124m\"\u001b[39m\u001b[38;5;124mComplex data not supported\u001b[39m\u001b[38;5;130;01m\\n\u001b[39;00m\u001b[38;5;132;01m{}\u001b[39;00m\u001b[38;5;130;01m\\n\u001b[39;00m\u001b[38;5;124m\"\u001b[39m\u001b[38;5;241m.\u001b[39mformat(array)\n\u001b[0;32m    860\u001b[0m     ) \u001b[38;5;28;01mfrom\u001b[39;00m \u001b[38;5;21;01mcomplex_warning\u001b[39;00m\n",
      "\u001b[1;31mValueError\u001b[0m: could not convert string to float: 'Seattle, Washington'"
     ]
    }
   ],
   "source": [
    "y_pred = regressor.predict(X)\n",
    "y_pred"
   ]
  },
  {
   "cell_type": "code",
   "execution_count": 37,
   "metadata": {
    "id": "f0d1CTFdNUaH"
   },
   "outputs": [],
   "source": [
    "#pip install pickle\n",
    "import pickle"
   ]
  },
  {
   "cell_type": "code",
   "execution_count": 39,
   "metadata": {
    "colab": {
     "base_uri": "https://localhost:8080/",
     "height": 200
    },
    "id": "py6piLlSNUaH",
    "outputId": "a4690722-4496-496e-ca04-29c8144c9b92"
   },
   "outputs": [
    {
     "ename": "NameError",
     "evalue": "name 'le_country' is not defined",
     "output_type": "error",
     "traceback": [
      "\u001b[1;31m---------------------------------------------------------------------------\u001b[0m",
      "\u001b[1;31mNameError\u001b[0m                                 Traceback (most recent call last)",
      "Input \u001b[1;32mIn [39]\u001b[0m, in \u001b[0;36m<cell line: 1>\u001b[1;34m()\u001b[0m\n\u001b[1;32m----> 1\u001b[0m data \u001b[38;5;241m=\u001b[39m {\u001b[38;5;124m\"\u001b[39m\u001b[38;5;124mmodel\u001b[39m\u001b[38;5;124m\"\u001b[39m: regressor, \u001b[38;5;124m\"\u001b[39m\u001b[38;5;124mle_location\u001b[39m\u001b[38;5;124m\"\u001b[39m: \u001b[43mle_country\u001b[49m, \u001b[38;5;124m\"\u001b[39m\u001b[38;5;124mle_title\u001b[39m\u001b[38;5;124m\"\u001b[39m: le_education}\n\u001b[0;32m      2\u001b[0m \u001b[38;5;28;01mwith\u001b[39;00m \u001b[38;5;28mopen\u001b[39m(\u001b[38;5;124m'\u001b[39m\u001b[38;5;124msaved_steps.pkl\u001b[39m\u001b[38;5;124m'\u001b[39m, \u001b[38;5;124m'\u001b[39m\u001b[38;5;124mwb\u001b[39m\u001b[38;5;124m'\u001b[39m) \u001b[38;5;28;01mas\u001b[39;00m file:\n\u001b[0;32m      3\u001b[0m     pickle\u001b[38;5;241m.\u001b[39mdump(data, file)\n",
      "\u001b[1;31mNameError\u001b[0m: name 'le_country' is not defined"
     ]
    }
   ],
   "source": [
    "data = {\"model\": regressor, \"le_location\": le_country, \"le_title\": le_education}\n",
    "with open('saved_steps.pkl', 'wb') as file:\n",
    "    pickle.dump(data, file)"
   ]
  },
  {
   "cell_type": "code",
   "execution_count": 40,
   "metadata": {
    "colab": {
     "base_uri": "https://localhost:8080/",
     "height": 235
    },
    "id": "AzRlIQyDNUaI",
    "outputId": "f8e373c1-b7e2-4bf1-d91f-212040621b90"
   },
   "outputs": [
    {
     "ename": "FileNotFoundError",
     "evalue": "[Errno 2] No such file or directory: 'saved_steps.pkl'",
     "output_type": "error",
     "traceback": [
      "\u001b[1;31m---------------------------------------------------------------------------\u001b[0m",
      "\u001b[1;31mFileNotFoundError\u001b[0m                         Traceback (most recent call last)",
      "Input \u001b[1;32mIn [40]\u001b[0m, in \u001b[0;36m<cell line: 1>\u001b[1;34m()\u001b[0m\n\u001b[1;32m----> 1\u001b[0m \u001b[38;5;28;01mwith\u001b[39;00m \u001b[38;5;28;43mopen\u001b[39;49m\u001b[43m(\u001b[49m\u001b[38;5;124;43m'\u001b[39;49m\u001b[38;5;124;43msaved_steps.pkl\u001b[39;49m\u001b[38;5;124;43m'\u001b[39;49m\u001b[43m,\u001b[49m\u001b[43m \u001b[49m\u001b[38;5;124;43m'\u001b[39;49m\u001b[38;5;124;43mrb\u001b[39;49m\u001b[38;5;124;43m'\u001b[39;49m\u001b[43m)\u001b[49m \u001b[38;5;28;01mas\u001b[39;00m file:\n\u001b[0;32m      2\u001b[0m     data \u001b[38;5;241m=\u001b[39m pickle\u001b[38;5;241m.\u001b[39mload(file)\n\u001b[0;32m      4\u001b[0m regressor_loaded \u001b[38;5;241m=\u001b[39m data[\u001b[38;5;124m\"\u001b[39m\u001b[38;5;124mmodel\u001b[39m\u001b[38;5;124m\"\u001b[39m]\n",
      "\u001b[1;31mFileNotFoundError\u001b[0m: [Errno 2] No such file or directory: 'saved_steps.pkl'"
     ]
    }
   ],
   "source": [
    "with open('saved_steps.pkl', 'rb') as file:\n",
    "    data = pickle.load(file)\n",
    "\n",
    "regressor_loaded = data[\"model\"]\n",
    "le_country = data[\"le_location\"]\n",
    "le_education = data[\"le_title\"]"
   ]
  },
  {
   "cell_type": "code",
   "execution_count": 41,
   "metadata": {
    "colab": {
     "base_uri": "https://localhost:8080/",
     "height": 183
    },
    "id": "iS2NpjgQNUaI",
    "outputId": "07b518bb-4594-448f-d117-24298097211d"
   },
   "outputs": [
    {
     "ename": "NameError",
     "evalue": "name 'regressor_loaded' is not defined",
     "output_type": "error",
     "traceback": [
      "\u001b[1;31m---------------------------------------------------------------------------\u001b[0m",
      "\u001b[1;31mNameError\u001b[0m                                 Traceback (most recent call last)",
      "Input \u001b[1;32mIn [41]\u001b[0m, in \u001b[0;36m<cell line: 1>\u001b[1;34m()\u001b[0m\n\u001b[1;32m----> 1\u001b[0m y_pred \u001b[38;5;241m=\u001b[39m \u001b[43mregressor_loaded\u001b[49m\u001b[38;5;241m.\u001b[39mpredict(X)\n\u001b[0;32m      2\u001b[0m y_pred\n",
      "\u001b[1;31mNameError\u001b[0m: name 'regressor_loaded' is not defined"
     ]
    }
   ],
   "source": [
    "y_pred = regressor_loaded.predict(X)\n",
    "y_pred"
   ]
  },
  {
   "cell_type": "code",
   "execution_count": 42,
   "metadata": {
    "id": "HKkAyFzgNUaJ"
   },
   "outputs": [
    {
     "data": {
      "text/html": [
       "<div>\n",
       "<style scoped>\n",
       "    .dataframe tbody tr th:only-of-type {\n",
       "        vertical-align: middle;\n",
       "    }\n",
       "\n",
       "    .dataframe tbody tr th {\n",
       "        vertical-align: top;\n",
       "    }\n",
       "\n",
       "    .dataframe thead th {\n",
       "        text-align: right;\n",
       "    }\n",
       "</style>\n",
       "<table border=\"1\" class=\"dataframe\">\n",
       "  <thead>\n",
       "    <tr style=\"text-align: right;\">\n",
       "      <th></th>\n",
       "      <th>timestamp</th>\n",
       "      <th>company</th>\n",
       "      <th>level</th>\n",
       "      <th>title</th>\n",
       "      <th>totalyearlycompensation</th>\n",
       "      <th>location</th>\n",
       "      <th>yearsofexperience</th>\n",
       "      <th>yearsatcompany</th>\n",
       "      <th>tag</th>\n",
       "      <th>basesalary</th>\n",
       "      <th>stockgrantvalue</th>\n",
       "      <th>bonus</th>\n",
       "      <th>gender</th>\n",
       "      <th>otherdetails</th>\n",
       "      <th>cityid</th>\n",
       "      <th>dmaid</th>\n",
       "      <th>rowNumber</th>\n",
       "      <th>Masters_Degree</th>\n",
       "      <th>Bachelors_Degree</th>\n",
       "      <th>Doctorate_Degree</th>\n",
       "      <th>Highschool</th>\n",
       "      <th>Some_College</th>\n",
       "      <th>Race_Asian</th>\n",
       "      <th>Race_White</th>\n",
       "      <th>Race_Two_Or_More</th>\n",
       "      <th>Race_Black</th>\n",
       "      <th>Race_Hispanic</th>\n",
       "      <th>Race</th>\n",
       "      <th>Education</th>\n",
       "    </tr>\n",
       "  </thead>\n",
       "  <tbody>\n",
       "    <tr>\n",
       "      <th>15710</th>\n",
       "      <td>1/27/2020 22:59:06</td>\n",
       "      <td>Google</td>\n",
       "      <td>L6</td>\n",
       "      <td>Software Engineer</td>\n",
       "      <td>400000</td>\n",
       "      <td>660</td>\n",
       "      <td>5.0</td>\n",
       "      <td>5.0</td>\n",
       "      <td>Distributed Systems (Back-End)</td>\n",
       "      <td>210000.0</td>\n",
       "      <td>145000.0</td>\n",
       "      <td>45000.0</td>\n",
       "      <td>Male</td>\n",
       "      <td>Asian - PhD</td>\n",
       "      <td>7472</td>\n",
       "      <td>807.0</td>\n",
       "      <td>21208</td>\n",
       "      <td>0</td>\n",
       "      <td>0</td>\n",
       "      <td>1</td>\n",
       "      <td>0</td>\n",
       "      <td>0</td>\n",
       "      <td>1</td>\n",
       "      <td>0</td>\n",
       "      <td>0</td>\n",
       "      <td>0</td>\n",
       "      <td>0</td>\n",
       "      <td>Asian</td>\n",
       "      <td>PhD</td>\n",
       "    </tr>\n",
       "    <tr>\n",
       "      <th>23532</th>\n",
       "      <td>7/3/2020 19:56:38</td>\n",
       "      <td>Microsoft</td>\n",
       "      <td>61</td>\n",
       "      <td>Software Engineer</td>\n",
       "      <td>136000</td>\n",
       "      <td>553</td>\n",
       "      <td>3.0</td>\n",
       "      <td>2.0</td>\n",
       "      <td>DevOps</td>\n",
       "      <td>124000.0</td>\n",
       "      <td>1000.0</td>\n",
       "      <td>11000.0</td>\n",
       "      <td>Male</td>\n",
       "      <td>Race: Two or More Races, Academic Level: Bache...</td>\n",
       "      <td>11521</td>\n",
       "      <td>819.0</td>\n",
       "      <td>32237</td>\n",
       "      <td>0</td>\n",
       "      <td>1</td>\n",
       "      <td>0</td>\n",
       "      <td>0</td>\n",
       "      <td>0</td>\n",
       "      <td>0</td>\n",
       "      <td>0</td>\n",
       "      <td>1</td>\n",
       "      <td>0</td>\n",
       "      <td>0</td>\n",
       "      <td>Two Or More</td>\n",
       "      <td>Bachelor's Degree</td>\n",
       "    </tr>\n",
       "    <tr>\n",
       "      <th>23533</th>\n",
       "      <td>7/3/2020 20:03:57</td>\n",
       "      <td>Google</td>\n",
       "      <td>L5</td>\n",
       "      <td>Software Engineer</td>\n",
       "      <td>337000</td>\n",
       "      <td>593</td>\n",
       "      <td>6.0</td>\n",
       "      <td>6.0</td>\n",
       "      <td>Full Stack</td>\n",
       "      <td>177000.0</td>\n",
       "      <td>125000.0</td>\n",
       "      <td>36000.0</td>\n",
       "      <td>Male</td>\n",
       "      <td>Race: Asian, Academic Level: Bachelor’s degree</td>\n",
       "      <td>7413</td>\n",
       "      <td>807.0</td>\n",
       "      <td>32239</td>\n",
       "      <td>0</td>\n",
       "      <td>1</td>\n",
       "      <td>0</td>\n",
       "      <td>0</td>\n",
       "      <td>0</td>\n",
       "      <td>1</td>\n",
       "      <td>0</td>\n",
       "      <td>0</td>\n",
       "      <td>0</td>\n",
       "      <td>0</td>\n",
       "      <td>Asian</td>\n",
       "      <td>Bachelor's Degree</td>\n",
       "    </tr>\n",
       "    <tr>\n",
       "      <th>23534</th>\n",
       "      <td>7/3/2020 20:05:37</td>\n",
       "      <td>Microsoft</td>\n",
       "      <td>62</td>\n",
       "      <td>Software Engineer</td>\n",
       "      <td>222000</td>\n",
       "      <td>620</td>\n",
       "      <td>4.0</td>\n",
       "      <td>4.0</td>\n",
       "      <td>API Development (Back-End)</td>\n",
       "      <td>164000.0</td>\n",
       "      <td>38000.0</td>\n",
       "      <td>20000.0</td>\n",
       "      <td>Male</td>\n",
       "      <td>Race: Asian, Academic Level: Master’s degree</td>\n",
       "      <td>11527</td>\n",
       "      <td>819.0</td>\n",
       "      <td>32240</td>\n",
       "      <td>1</td>\n",
       "      <td>0</td>\n",
       "      <td>0</td>\n",
       "      <td>0</td>\n",
       "      <td>0</td>\n",
       "      <td>1</td>\n",
       "      <td>0</td>\n",
       "      <td>0</td>\n",
       "      <td>0</td>\n",
       "      <td>0</td>\n",
       "      <td>Asian</td>\n",
       "      <td>Master's Degree</td>\n",
       "    </tr>\n",
       "    <tr>\n",
       "      <th>23535</th>\n",
       "      <td>7/3/2020 20:19:06</td>\n",
       "      <td>Blend</td>\n",
       "      <td>IC3</td>\n",
       "      <td>Software Engineer</td>\n",
       "      <td>187000</td>\n",
       "      <td>596</td>\n",
       "      <td>5.0</td>\n",
       "      <td>0.0</td>\n",
       "      <td>Full Stack</td>\n",
       "      <td>165000.0</td>\n",
       "      <td>22000.0</td>\n",
       "      <td>0.0</td>\n",
       "      <td>Male</td>\n",
       "      <td>Race: White, Academic Level: Bachelor’s degree</td>\n",
       "      <td>7419</td>\n",
       "      <td>807.0</td>\n",
       "      <td>32241</td>\n",
       "      <td>0</td>\n",
       "      <td>1</td>\n",
       "      <td>0</td>\n",
       "      <td>0</td>\n",
       "      <td>0</td>\n",
       "      <td>0</td>\n",
       "      <td>1</td>\n",
       "      <td>0</td>\n",
       "      <td>0</td>\n",
       "      <td>0</td>\n",
       "      <td>White</td>\n",
       "      <td>Bachelor's Degree</td>\n",
       "    </tr>\n",
       "  </tbody>\n",
       "</table>\n",
       "</div>"
      ],
      "text/plain": [
       "                timestamp    company level              title  \\\n",
       "15710  1/27/2020 22:59:06     Google    L6  Software Engineer   \n",
       "23532   7/3/2020 19:56:38  Microsoft    61  Software Engineer   \n",
       "23533   7/3/2020 20:03:57     Google    L5  Software Engineer   \n",
       "23534   7/3/2020 20:05:37  Microsoft    62  Software Engineer   \n",
       "23535   7/3/2020 20:19:06      Blend   IC3  Software Engineer   \n",
       "\n",
       "       totalyearlycompensation  location  yearsofexperience  yearsatcompany  \\\n",
       "15710                   400000       660                5.0             5.0   \n",
       "23532                   136000       553                3.0             2.0   \n",
       "23533                   337000       593                6.0             6.0   \n",
       "23534                   222000       620                4.0             4.0   \n",
       "23535                   187000       596                5.0             0.0   \n",
       "\n",
       "                                  tag  basesalary  stockgrantvalue    bonus  \\\n",
       "15710  Distributed Systems (Back-End)    210000.0         145000.0  45000.0   \n",
       "23532                          DevOps    124000.0           1000.0  11000.0   \n",
       "23533                      Full Stack    177000.0         125000.0  36000.0   \n",
       "23534      API Development (Back-End)    164000.0          38000.0  20000.0   \n",
       "23535                      Full Stack    165000.0          22000.0      0.0   \n",
       "\n",
       "      gender                                       otherdetails  cityid  \\\n",
       "15710   Male                                        Asian - PhD    7472   \n",
       "23532   Male  Race: Two or More Races, Academic Level: Bache...   11521   \n",
       "23533   Male     Race: Asian, Academic Level: Bachelor’s degree    7413   \n",
       "23534   Male       Race: Asian, Academic Level: Master’s degree   11527   \n",
       "23535   Male     Race: White, Academic Level: Bachelor’s degree    7419   \n",
       "\n",
       "       dmaid  rowNumber  Masters_Degree  Bachelors_Degree  Doctorate_Degree  \\\n",
       "15710  807.0      21208               0                 0                 1   \n",
       "23532  819.0      32237               0                 1                 0   \n",
       "23533  807.0      32239               0                 1                 0   \n",
       "23534  819.0      32240               1                 0                 0   \n",
       "23535  807.0      32241               0                 1                 0   \n",
       "\n",
       "       Highschool  Some_College  Race_Asian  Race_White  Race_Two_Or_More  \\\n",
       "15710           0             0           1           0                 0   \n",
       "23532           0             0           0           0                 1   \n",
       "23533           0             0           1           0                 0   \n",
       "23534           0             0           1           0                 0   \n",
       "23535           0             0           0           1                 0   \n",
       "\n",
       "       Race_Black  Race_Hispanic         Race          Education  \n",
       "15710           0              0        Asian                PhD  \n",
       "23532           0              0  Two Or More  Bachelor's Degree  \n",
       "23533           0              0        Asian  Bachelor's Degree  \n",
       "23534           0              0        Asian    Master's Degree  \n",
       "23535           0              0        White  Bachelor's Degree  "
      ]
     },
     "metadata": {},
     "output_type": "display_data"
    }
   ],
   "source": [
    "#checking actual data\n",
    "with pd.option_context('display.max_columns', None):\n",
    "    display(sdf.head(5))"
   ]
  },
  {
   "cell_type": "code",
   "execution_count": 43,
   "metadata": {
    "colab": {
     "base_uri": "https://localhost:8080/"
    },
    "id": "fStbiOA2NUaJ",
    "outputId": "bb4846a7-b59b-418a-f9ba-4b3efc3efc56"
   },
   "outputs": [
    {
     "data": {
      "text/plain": [
       "620    2484\n",
       "596    1694\n",
       "471    1556\n",
       "553     747\n",
       "42      627\n",
       "       ... \n",
       "649       1\n",
       "5         1\n",
       "359       1\n",
       "547       1\n",
       "517       1\n",
       "Name: location, Length: 767, dtype: int64"
      ]
     },
     "execution_count": 43,
     "metadata": {},
     "output_type": "execute_result"
    }
   ],
   "source": [
    "#checking location data\n",
    "sdf.location.value_counts()"
   ]
  },
  {
   "cell_type": "code",
   "execution_count": 44,
   "metadata": {
    "id": "cmacqnRONUaK"
   },
   "outputs": [
    {
     "ename": "AttributeError",
     "evalue": "Can only use .str accessor with string values!",
     "output_type": "error",
     "traceback": [
      "\u001b[1;31m---------------------------------------------------------------------------\u001b[0m",
      "\u001b[1;31mAttributeError\u001b[0m                            Traceback (most recent call last)",
      "Input \u001b[1;32mIn [44]\u001b[0m, in \u001b[0;36m<cell line: 2>\u001b[1;34m()\u001b[0m\n\u001b[0;32m      1\u001b[0m \u001b[38;5;66;03m# Create a city ID so that we can use as a lookup\u001b[39;00m\n\u001b[1;32m----> 2\u001b[0m sdf[[\u001b[38;5;124m'\u001b[39m\u001b[38;5;124mcity\u001b[39m\u001b[38;5;124m'\u001b[39m,\u001b[38;5;124m'\u001b[39m\u001b[38;5;124mstate\u001b[39m\u001b[38;5;124m'\u001b[39m,\u001b[38;5;124m'\u001b[39m\u001b[38;5;124mcountry\u001b[39m\u001b[38;5;124m'\u001b[39m]] \u001b[38;5;241m=\u001b[39m \u001b[43msdf\u001b[49m\u001b[38;5;241;43m.\u001b[39;49m\u001b[43mlocation\u001b[49m\u001b[38;5;241;43m.\u001b[39;49m\u001b[43mstr\u001b[49m\u001b[38;5;241m.\u001b[39msplit(\u001b[38;5;124m\"\u001b[39m\u001b[38;5;124m, \u001b[39m\u001b[38;5;124m\"\u001b[39m,expand\u001b[38;5;241m=\u001b[39m\u001b[38;5;28;01mTrue\u001b[39;00m,n\u001b[38;5;241m=\u001b[39m\u001b[38;5;241m2\u001b[39m)\n\u001b[0;32m      3\u001b[0m sdf\u001b[38;5;241m.\u001b[39mcountry\u001b[38;5;241m.\u001b[39mfillna(\u001b[38;5;124m'\u001b[39m\u001b[38;5;124mUnited States\u001b[39m\u001b[38;5;124m'\u001b[39m,inplace\u001b[38;5;241m=\u001b[39m\u001b[38;5;28;01mTrue\u001b[39;00m)\n\u001b[0;32m      4\u001b[0m sdf[\u001b[38;5;124m'\u001b[39m\u001b[38;5;124mcity_id\u001b[39m\u001b[38;5;124m'\u001b[39m] \u001b[38;5;241m=\u001b[39m sdf\u001b[38;5;241m.\u001b[39magg(\u001b[38;5;28;01mlambda\u001b[39;00m df: \u001b[38;5;124mf\u001b[39m\u001b[38;5;124m\"\u001b[39m\u001b[38;5;132;01m{\u001b[39;00mdf[\u001b[38;5;124m'\u001b[39m\u001b[38;5;124mcity\u001b[39m\u001b[38;5;124m'\u001b[39m]\u001b[38;5;132;01m}\u001b[39;00m\u001b[38;5;124m_\u001b[39m\u001b[38;5;132;01m{\u001b[39;00mdf[\u001b[38;5;124m'\u001b[39m\u001b[38;5;124mcountry\u001b[39m\u001b[38;5;124m'\u001b[39m]\u001b[38;5;132;01m}\u001b[39;00m\u001b[38;5;124m\"\u001b[39m,axis \u001b[38;5;241m=\u001b[39m \u001b[38;5;241m1\u001b[39m)\n",
      "File \u001b[1;32m~\\anaconda3\\lib\\site-packages\\pandas\\core\\generic.py:5575\u001b[0m, in \u001b[0;36mNDFrame.__getattr__\u001b[1;34m(self, name)\u001b[0m\n\u001b[0;32m   5568\u001b[0m \u001b[38;5;28;01mif\u001b[39;00m (\n\u001b[0;32m   5569\u001b[0m     name \u001b[38;5;129;01mnot\u001b[39;00m \u001b[38;5;129;01min\u001b[39;00m \u001b[38;5;28mself\u001b[39m\u001b[38;5;241m.\u001b[39m_internal_names_set\n\u001b[0;32m   5570\u001b[0m     \u001b[38;5;129;01mand\u001b[39;00m name \u001b[38;5;129;01mnot\u001b[39;00m \u001b[38;5;129;01min\u001b[39;00m \u001b[38;5;28mself\u001b[39m\u001b[38;5;241m.\u001b[39m_metadata\n\u001b[0;32m   5571\u001b[0m     \u001b[38;5;129;01mand\u001b[39;00m name \u001b[38;5;129;01mnot\u001b[39;00m \u001b[38;5;129;01min\u001b[39;00m \u001b[38;5;28mself\u001b[39m\u001b[38;5;241m.\u001b[39m_accessors\n\u001b[0;32m   5572\u001b[0m     \u001b[38;5;129;01mand\u001b[39;00m \u001b[38;5;28mself\u001b[39m\u001b[38;5;241m.\u001b[39m_info_axis\u001b[38;5;241m.\u001b[39m_can_hold_identifiers_and_holds_name(name)\n\u001b[0;32m   5573\u001b[0m ):\n\u001b[0;32m   5574\u001b[0m     \u001b[38;5;28;01mreturn\u001b[39;00m \u001b[38;5;28mself\u001b[39m[name]\n\u001b[1;32m-> 5575\u001b[0m \u001b[38;5;28;01mreturn\u001b[39;00m \u001b[38;5;28;43mobject\u001b[39;49m\u001b[38;5;241;43m.\u001b[39;49m\u001b[38;5;21;43m__getattribute__\u001b[39;49m\u001b[43m(\u001b[49m\u001b[38;5;28;43mself\u001b[39;49m\u001b[43m,\u001b[49m\u001b[43m \u001b[49m\u001b[43mname\u001b[49m\u001b[43m)\u001b[49m\n",
      "File \u001b[1;32m~\\anaconda3\\lib\\site-packages\\pandas\\core\\accessor.py:182\u001b[0m, in \u001b[0;36mCachedAccessor.__get__\u001b[1;34m(self, obj, cls)\u001b[0m\n\u001b[0;32m    179\u001b[0m \u001b[38;5;28;01mif\u001b[39;00m obj \u001b[38;5;129;01mis\u001b[39;00m \u001b[38;5;28;01mNone\u001b[39;00m:\n\u001b[0;32m    180\u001b[0m     \u001b[38;5;66;03m# we're accessing the attribute of the class, i.e., Dataset.geo\u001b[39;00m\n\u001b[0;32m    181\u001b[0m     \u001b[38;5;28;01mreturn\u001b[39;00m \u001b[38;5;28mself\u001b[39m\u001b[38;5;241m.\u001b[39m_accessor\n\u001b[1;32m--> 182\u001b[0m accessor_obj \u001b[38;5;241m=\u001b[39m \u001b[38;5;28;43mself\u001b[39;49m\u001b[38;5;241;43m.\u001b[39;49m\u001b[43m_accessor\u001b[49m\u001b[43m(\u001b[49m\u001b[43mobj\u001b[49m\u001b[43m)\u001b[49m\n\u001b[0;32m    183\u001b[0m \u001b[38;5;66;03m# Replace the property with the accessor object. Inspired by:\u001b[39;00m\n\u001b[0;32m    184\u001b[0m \u001b[38;5;66;03m# https://www.pydanny.com/cached-property.html\u001b[39;00m\n\u001b[0;32m    185\u001b[0m \u001b[38;5;66;03m# We need to use object.__setattr__ because we overwrite __setattr__ on\u001b[39;00m\n\u001b[0;32m    186\u001b[0m \u001b[38;5;66;03m# NDFrame\u001b[39;00m\n\u001b[0;32m    187\u001b[0m \u001b[38;5;28mobject\u001b[39m\u001b[38;5;241m.\u001b[39m\u001b[38;5;21m__setattr__\u001b[39m(obj, \u001b[38;5;28mself\u001b[39m\u001b[38;5;241m.\u001b[39m_name, accessor_obj)\n",
      "File \u001b[1;32m~\\anaconda3\\lib\\site-packages\\pandas\\core\\strings\\accessor.py:177\u001b[0m, in \u001b[0;36mStringMethods.__init__\u001b[1;34m(self, data)\u001b[0m\n\u001b[0;32m    174\u001b[0m \u001b[38;5;28;01mdef\u001b[39;00m \u001b[38;5;21m__init__\u001b[39m(\u001b[38;5;28mself\u001b[39m, data):\n\u001b[0;32m    175\u001b[0m     \u001b[38;5;28;01mfrom\u001b[39;00m \u001b[38;5;21;01mpandas\u001b[39;00m\u001b[38;5;21;01m.\u001b[39;00m\u001b[38;5;21;01mcore\u001b[39;00m\u001b[38;5;21;01m.\u001b[39;00m\u001b[38;5;21;01marrays\u001b[39;00m\u001b[38;5;21;01m.\u001b[39;00m\u001b[38;5;21;01mstring_\u001b[39;00m \u001b[38;5;28;01mimport\u001b[39;00m StringDtype\n\u001b[1;32m--> 177\u001b[0m     \u001b[38;5;28mself\u001b[39m\u001b[38;5;241m.\u001b[39m_inferred_dtype \u001b[38;5;241m=\u001b[39m \u001b[38;5;28;43mself\u001b[39;49m\u001b[38;5;241;43m.\u001b[39;49m\u001b[43m_validate\u001b[49m\u001b[43m(\u001b[49m\u001b[43mdata\u001b[49m\u001b[43m)\u001b[49m\n\u001b[0;32m    178\u001b[0m     \u001b[38;5;28mself\u001b[39m\u001b[38;5;241m.\u001b[39m_is_categorical \u001b[38;5;241m=\u001b[39m is_categorical_dtype(data\u001b[38;5;241m.\u001b[39mdtype)\n\u001b[0;32m    179\u001b[0m     \u001b[38;5;28mself\u001b[39m\u001b[38;5;241m.\u001b[39m_is_string \u001b[38;5;241m=\u001b[39m \u001b[38;5;28misinstance\u001b[39m(data\u001b[38;5;241m.\u001b[39mdtype, StringDtype)\n",
      "File \u001b[1;32m~\\anaconda3\\lib\\site-packages\\pandas\\core\\strings\\accessor.py:231\u001b[0m, in \u001b[0;36mStringMethods._validate\u001b[1;34m(data)\u001b[0m\n\u001b[0;32m    228\u001b[0m inferred_dtype \u001b[38;5;241m=\u001b[39m lib\u001b[38;5;241m.\u001b[39minfer_dtype(values, skipna\u001b[38;5;241m=\u001b[39m\u001b[38;5;28;01mTrue\u001b[39;00m)\n\u001b[0;32m    230\u001b[0m \u001b[38;5;28;01mif\u001b[39;00m inferred_dtype \u001b[38;5;129;01mnot\u001b[39;00m \u001b[38;5;129;01min\u001b[39;00m allowed_types:\n\u001b[1;32m--> 231\u001b[0m     \u001b[38;5;28;01mraise\u001b[39;00m \u001b[38;5;167;01mAttributeError\u001b[39;00m(\u001b[38;5;124m\"\u001b[39m\u001b[38;5;124mCan only use .str accessor with string values!\u001b[39m\u001b[38;5;124m\"\u001b[39m)\n\u001b[0;32m    232\u001b[0m \u001b[38;5;28;01mreturn\u001b[39;00m inferred_dtype\n",
      "\u001b[1;31mAttributeError\u001b[0m: Can only use .str accessor with string values!"
     ]
    }
   ],
   "source": [
    "# Create a city ID so that we can use as a lookup\n",
    "sdf[['city','state','country']] = sdf.location.str.split(\", \",expand=True,n=2)\n",
    "sdf.country.fillna('United States',inplace=True)\n",
    "sdf['city_id'] = sdf.agg(lambda df: f\"{df['city']}_{df['country']}\",axis = 1)\n",
    "\n",
    "sdf.head(5)"
   ]
  },
  {
   "cell_type": "code",
   "execution_count": null,
   "metadata": {
    "id": "rGRho8IyNUaK"
   },
   "outputs": [],
   "source": [
    "#Filtering data for 'data professionals only'\n",
    "\n",
    "sds = sdf[sdf.title.str.contains('data',case=False)] # sds: Salary for Data Science\n",
    "\n",
    "print(sds.shape)\n",
    "sds.head()"
   ]
  },
  {
   "cell_type": "code",
   "execution_count": 45,
   "metadata": {
    "id": "HdN-imm1NUaK"
   },
   "outputs": [
    {
     "ename": "NameError",
     "evalue": "name 'sds' is not defined",
     "output_type": "error",
     "traceback": [
      "\u001b[1;31m---------------------------------------------------------------------------\u001b[0m",
      "\u001b[1;31mNameError\u001b[0m                                 Traceback (most recent call last)",
      "Input \u001b[1;32mIn [45]\u001b[0m, in \u001b[0;36m<cell line: 2>\u001b[1;34m()\u001b[0m\n\u001b[0;32m      1\u001b[0m \u001b[38;5;66;03m#Number of counts with 'data'\u001b[39;00m\n\u001b[1;32m----> 2\u001b[0m \u001b[43msds\u001b[49m\u001b[38;5;241m.\u001b[39mtitle\u001b[38;5;241m.\u001b[39mvalue_counts()\n",
      "\u001b[1;31mNameError\u001b[0m: name 'sds' is not defined"
     ]
    }
   ],
   "source": [
    "#Number of counts with 'data'\n",
    "sds.title.value_counts()"
   ]
  },
  {
   "cell_type": "code",
   "execution_count": 46,
   "metadata": {
    "colab": {
     "base_uri": "https://localhost:8080/",
     "height": 364
    },
    "id": "_oeumXrLNUaL",
    "outputId": "cebd5b83-0ad8-46fc-ff5f-6c4ccbb2c7ee"
   },
   "outputs": [
    {
     "ename": "NameError",
     "evalue": "name 'sds' is not defined",
     "output_type": "error",
     "traceback": [
      "\u001b[1;31m---------------------------------------------------------------------------\u001b[0m",
      "\u001b[1;31mNameError\u001b[0m                                 Traceback (most recent call last)",
      "Input \u001b[1;32mIn [46]\u001b[0m, in \u001b[0;36m<cell line: 2>\u001b[1;34m()\u001b[0m\n\u001b[0;32m      1\u001b[0m \u001b[38;5;66;03m#Performing basic analysis on the 'data scientists' only dataset\u001b[39;00m\n\u001b[1;32m----> 2\u001b[0m \u001b[43msds\u001b[49m\u001b[38;5;241m.\u001b[39mdescribe()\n",
      "\u001b[1;31mNameError\u001b[0m: name 'sds' is not defined"
     ]
    }
   ],
   "source": [
    "#Performing basic analysis on the 'data scientists' only dataset\n",
    "sds.describe()"
   ]
  },
  {
   "cell_type": "code",
   "execution_count": 47,
   "metadata": {
    "colab": {
     "base_uri": "https://localhost:8080/",
     "height": 282
    },
    "id": "CpKnoqGgNUaL",
    "outputId": "7b4a8ab3-e33c-41cc-f6e9-22aac8053418"
   },
   "outputs": [
    {
     "ename": "NameError",
     "evalue": "name 'sds' is not defined",
     "output_type": "error",
     "traceback": [
      "\u001b[1;31m---------------------------------------------------------------------------\u001b[0m",
      "\u001b[1;31mNameError\u001b[0m                                 Traceback (most recent call last)",
      "Input \u001b[1;32mIn [47]\u001b[0m, in \u001b[0;36m<cell line: 2>\u001b[1;34m()\u001b[0m\n\u001b[0;32m      1\u001b[0m \u001b[38;5;66;03m#histogram\u001b[39;00m\n\u001b[1;32m----> 2\u001b[0m \u001b[43msds\u001b[49m\u001b[38;5;241m.\u001b[39mbasesalary\u001b[38;5;241m.\u001b[39mhist(bins\u001b[38;5;241m=\u001b[39m\u001b[38;5;28mrange\u001b[39m(\u001b[38;5;241m0\u001b[39m,\u001b[38;5;241m500000\u001b[39m,\u001b[38;5;241m50000\u001b[39m))\n",
      "\u001b[1;31mNameError\u001b[0m: name 'sds' is not defined"
     ]
    }
   ],
   "source": [
    "#histogram\n",
    "sds.basesalary.hist(bins=range(0,500000,50000))"
   ]
  },
  {
   "cell_type": "code",
   "execution_count": 48,
   "metadata": {
    "colab": {
     "base_uri": "https://localhost:8080/",
     "height": 282
    },
    "id": "1TSoHP8iNUaL",
    "outputId": "9322a836-1f41-4b9a-9796-02bde7f0944c"
   },
   "outputs": [
    {
     "ename": "NameError",
     "evalue": "name 'sds' is not defined",
     "output_type": "error",
     "traceback": [
      "\u001b[1;31m---------------------------------------------------------------------------\u001b[0m",
      "\u001b[1;31mNameError\u001b[0m                                 Traceback (most recent call last)",
      "Input \u001b[1;32mIn [48]\u001b[0m, in \u001b[0;36m<cell line: 2>\u001b[1;34m()\u001b[0m\n\u001b[0;32m      1\u001b[0m \u001b[38;5;66;03m#boxplot\u001b[39;00m\n\u001b[1;32m----> 2\u001b[0m \u001b[43msds\u001b[49m\u001b[38;5;241m.\u001b[39mboxplot(column \u001b[38;5;241m=\u001b[39m \u001b[38;5;124m'\u001b[39m\u001b[38;5;124mbasesalary\u001b[39m\u001b[38;5;124m'\u001b[39m)\n",
      "\u001b[1;31mNameError\u001b[0m: name 'sds' is not defined"
     ]
    }
   ],
   "source": [
    "#boxplot\n",
    "sds.boxplot(column = 'basesalary')"
   ]
  },
  {
   "cell_type": "code",
   "execution_count": 49,
   "metadata": {
    "colab": {
     "base_uri": "https://localhost:8080/",
     "height": 52
    },
    "id": "3WTfN_-LNUaM",
    "outputId": "1e41ad5a-4326-40e5-f909-ee48caa11819"
   },
   "outputs": [
    {
     "ename": "NameError",
     "evalue": "name 'sds' is not defined",
     "output_type": "error",
     "traceback": [
      "\u001b[1;31m---------------------------------------------------------------------------\u001b[0m",
      "\u001b[1;31mNameError\u001b[0m                                 Traceback (most recent call last)",
      "Input \u001b[1;32mIn [49]\u001b[0m, in \u001b[0;36m<cell line: 2>\u001b[1;34m()\u001b[0m\n\u001b[0;32m      1\u001b[0m \u001b[38;5;66;03m# Checking for Alphabet/Meta new names\u001b[39;00m\n\u001b[1;32m----> 2\u001b[0m display(\u001b[43msds\u001b[49m\u001b[38;5;241m.\u001b[39mloc[sds\u001b[38;5;241m.\u001b[39mcompany\u001b[38;5;241m.\u001b[39mstr\u001b[38;5;241m.\u001b[39mcontains(\u001b[38;5;124m'\u001b[39m\u001b[38;5;124malphabet\u001b[39m\u001b[38;5;124m'\u001b[39m,case\u001b[38;5;241m=\u001b[39m\u001b[38;5;28;01mFalse\u001b[39;00m),\u001b[38;5;124m'\u001b[39m\u001b[38;5;124mcompany\u001b[39m\u001b[38;5;124m'\u001b[39m])\n\u001b[0;32m      3\u001b[0m display(sds\u001b[38;5;241m.\u001b[39mloc[sds\u001b[38;5;241m.\u001b[39mcompany\u001b[38;5;241m.\u001b[39mstr\u001b[38;5;241m.\u001b[39mcontains(\u001b[38;5;124m'\u001b[39m\u001b[38;5;124mmeta\u001b[39m\u001b[38;5;124m'\u001b[39m,case\u001b[38;5;241m=\u001b[39m\u001b[38;5;28;01mFalse\u001b[39;00m),\u001b[38;5;124m'\u001b[39m\u001b[38;5;124mcompany\u001b[39m\u001b[38;5;124m'\u001b[39m])\n",
      "\u001b[1;31mNameError\u001b[0m: name 'sds' is not defined"
     ]
    }
   ],
   "source": [
    "# Checking for Alphabet/Meta new names\n",
    "display(sds.loc[sds.company.str.contains('alphabet',case=False),'company'])\n",
    "display(sds.loc[sds.company.str.contains('meta',case=False),'company'])"
   ]
  },
  {
   "cell_type": "code",
   "execution_count": 50,
   "metadata": {
    "colab": {
     "base_uri": "https://localhost:8080/"
    },
    "id": "HD8mH7uWNUaM",
    "outputId": "71573f69-5f97-4462-9d77-b96f15d8b8ea"
   },
   "outputs": [
    {
     "ename": "NameError",
     "evalue": "name 'sds' is not defined",
     "output_type": "error",
     "traceback": [
      "\u001b[1;31m---------------------------------------------------------------------------\u001b[0m",
      "\u001b[1;31mNameError\u001b[0m                                 Traceback (most recent call last)",
      "Input \u001b[1;32mIn [50]\u001b[0m, in \u001b[0;36m<cell line: 1>\u001b[1;34m()\u001b[0m\n\u001b[1;32m----> 1\u001b[0m faangless_sds \u001b[38;5;241m=\u001b[39m \u001b[43msds\u001b[49m\u001b[38;5;241m.\u001b[39mcopy()\n\u001b[0;32m      3\u001b[0m faang_list \u001b[38;5;241m=\u001b[39m [\u001b[38;5;124m'\u001b[39m\u001b[38;5;124mFacebook\u001b[39m\u001b[38;5;124m'\u001b[39m,\u001b[38;5;124m'\u001b[39m\u001b[38;5;124mApple\u001b[39m\u001b[38;5;124m'\u001b[39m,\u001b[38;5;124m'\u001b[39m\u001b[38;5;124mAmazon\u001b[39m\u001b[38;5;124m'\u001b[39m,\u001b[38;5;124m'\u001b[39m\u001b[38;5;124mNetflix\u001b[39m\u001b[38;5;124m'\u001b[39m,\u001b[38;5;124m'\u001b[39m\u001b[38;5;124mGoogle\u001b[39m\u001b[38;5;124m'\u001b[39m,\u001b[38;5;124m'\u001b[39m\u001b[38;5;124mMicrosoft\u001b[39m\u001b[38;5;124m'\u001b[39m]\n\u001b[0;32m      4\u001b[0m faang_str \u001b[38;5;241m=\u001b[39m \u001b[38;5;124m'\u001b[39m\u001b[38;5;124m|\u001b[39m\u001b[38;5;124m'\u001b[39m\u001b[38;5;241m.\u001b[39mjoin(faang_list)\n",
      "\u001b[1;31mNameError\u001b[0m: name 'sds' is not defined"
     ]
    }
   ],
   "source": [
    "faangless_sds = sds.copy()\n",
    "\n",
    "faang_list = ['Facebook','Apple','Amazon','Netflix','Google','Microsoft']\n",
    "faang_str = '|'.join(faang_list)\n",
    "\n",
    "isfaang_s = sds.copy().company.str.contains(faang_str,case=False)\n",
    "\n",
    "fds = faangless_sds = faangless_sds[isfaang_s == False]\n",
    "\n",
    "print('Original data size  : ' , sds.shape)\n",
    "print('FAANG-less data size: ' , fds.shape)\n",
    "print(sds.shape[0] - fds.shape[0], 'rows removed')\n",
    "print(round((fds.shape[0] / sds.shape[0])*100,1) , '% remaining')\n"
   ]
  },
  {
   "cell_type": "code",
   "execution_count": null,
   "metadata": {
    "colab": {
     "base_uri": "https://localhost:8080/",
     "height": 282
    },
    "id": "oX_wZNyUNUaM",
    "outputId": "5fc10d69-837d-4f68-dea7-bd3011e13679"
   },
   "outputs": [
    {
     "data": {
      "text/plain": [
       "<matplotlib.axes._subplots.AxesSubplot at 0x7fe1a4fe2910>"
      ]
     },
     "execution_count": 290,
     "metadata": {},
     "output_type": "execute_result"
    },
    {
     "data": {
      "image/png": "[encoded data removed]",
      "text/plain": [
       "<Figure size 432x288 with 1 Axes>"
      ]
     },
     "metadata": {
      "needs_background": "light"
     },
     "output_type": "display_data"
    }
   ],
   "source": [
    "sdf.basesalary.hist(bins=range(0,500000,50000))\n"
   ]
  },
  {
   "cell_type": "code",
   "execution_count": null,
   "metadata": {
    "colab": {
     "base_uri": "https://localhost:8080/",
     "height": 282
    },
    "id": "sCn25uhdNUaN",
    "outputId": "cc417c15-6c89-4995-c8fe-161aee3630e4"
   },
   "outputs": [
    {
     "data": {
      "text/plain": [
       "<matplotlib.axes._subplots.AxesSubplot at 0x7fe1a5928f10>"
      ]
     },
     "execution_count": 291,
     "metadata": {},
     "output_type": "execute_result"
    },
    {
     "data": {
      "image/png": "[encoded data removed]",
      "text/plain": [
       "<Figure size 432x288 with 1 Axes>"
      ]
     },
     "metadata": {
      "needs_background": "light"
     },
     "output_type": "display_data"
    }
   ],
   "source": [
    "sdf.boxplot(column = 'basesalary')"
   ]
  }
 ],
 "metadata": {
  "colab": {
   "provenance": []
  },
  "kernelspec": {
   "display_name": "Python 3 (ipykernel)",
   "language": "python",
   "name": "python3"
  },
  "language_info": {
   "codemirror_mode": {
    "name": "ipython",
    "version": 3
   },
   "file_extension": ".py",
   "mimetype": "text/x-python",
   "name": "python",
   "nbconvert_exporter": "python",
   "pygments_lexer": "ipython3",
   "version": "3.9.12"
  }
 },
 "nbformat": 4,
 "nbformat_minor": 1
}
